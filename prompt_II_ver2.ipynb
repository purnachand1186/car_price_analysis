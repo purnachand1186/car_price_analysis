{
  "cells": [
    {
      "cell_type": "markdown",
      "metadata": {
        "id": "view-in-github",
        "colab_type": "text"
      },
      "source": [
        "<a href=\"https://colab.research.google.com/github/purnachand1186/car_price_analysis/blob/main/prompt_II_ver2.ipynb\" target=\"_parent\"><img src=\"https://colab.research.google.com/assets/colab-badge.svg\" alt=\"Open In Colab\"/></a>"
      ]
    },
    {
      "cell_type": "markdown",
      "metadata": {
        "id": "vefR6VopUhLk"
      },
      "source": [
        "# What drives the price of a car?\n",
        "\n",
        "![](https://github.com/purnachand1186/car_price_analysis/blob/main/images/kurt.jpeg?raw=1)"
      ]
    },
    {
      "cell_type": "markdown",
      "metadata": {
        "id": "avi3RjfhUhLm"
      },
      "source": [
        "**OVERVIEW**\n",
        "\n",
        "In this application, you will explore a dataset from Kaggle. The original dataset contained information on 3 million used cars. The provided dataset contains information on 426K cars to ensure speed of processing.  Your goal is to understand what factors make a car more or less expensive.  As a result of your analysis, you should provide clear recommendations to your client -- a used car dealership -- as to what consumers value in a used car."
      ]
    },
    {
      "cell_type": "markdown",
      "metadata": {
        "id": "fxra9lvYUhLn"
      },
      "source": [
        "### CRISP-DM Framework\n",
        "\n",
        "<center>\n",
        "    <img src = images/crisp.png width = 50%/>\n",
        "</center>\n",
        "\n",
        "\n",
        "To frame the task, throughout our practical applications, we will refer back to a standard process in industry for data projects called CRISP-DM.  This process provides a framework for working through a data problem.  Your first step in this application will be to read through a brief overview of CRISP-DM [here](https://mo-pcco.s3.us-east-1.amazonaws.com/BH-PCMLAI/module_11/readings_starter.zip).  After reading the overview, answer the questions below."
      ]
    },
    {
      "cell_type": "markdown",
      "metadata": {
        "id": "7AflQJR9UhLn"
      },
      "source": [
        "### Business Understanding\n",
        "\n",
        "From a business perspective, we are tasked with identifying key drivers for used car prices.  In the CRISP-DM overview, we are asked to convert this business framing to a data problem definition.  Using a few sentences, reframe the task as a data task with the appropriate technical vocabulary."
      ]
    },
    {
      "cell_type": "markdown",
      "source": [
        "**Business Objective**: Identify the key factors that influence used car prices ,and below are some of the key business aspects.\n",
        "1. *Cost*: estimate the price of a used car based on the attributes provided for cars in the dataset more precisely try to answer the below business questions\n",
        "        1) Is the price of a car dependent on the milage driven ?\n",
        "        2) Is the price of a car dependent on the engine type and /or horsepower ?\n"
      ],
      "metadata": {
        "id": "r2mOykYXVQ2J"
      }
    },
    {
      "cell_type": "markdown",
      "source": [
        "2. *Customers*: Understand what customers are looking for in the used cars to provide them with the best options, to acheive that , analyze the exsting customer data to define the patterns depanding on the income, age, status and education."
      ],
      "metadata": {
        "id": "LtNSg9rgU-Xi"
      }
    },
    {
      "cell_type": "markdown",
      "source": [
        "3. *Data*: Make sure the provided for this analysis is in a shape to use it for the analysis and for future predictions. Make sure the outliers are removed."
      ],
      "metadata": {
        "id": "EPl40YaCYaTb"
      }
    },
    {
      "cell_type": "markdown",
      "metadata": {
        "id": "OJXomGWeUhLo"
      },
      "source": [
        "### Data Understanding\n",
        "\n",
        "After considering the business understanding, we want to get familiar with our data.  Write down some steps that you would take to get to know the dataset and identify any quality issues within.  Take time to get to know the dataset and explore what information it contains and how this could be used to inform your business understanding.\n",
        "\n",
        "\n",
        "\n",
        "> `in '**prompt_II**' , I am simply deleting the null values, and didn't used any Imputers to populate null values for both integer and  columns and used LabelEncoder to populate integer values into category columns`\n",
        "\n",
        "\n",
        "\n",
        "> `in '**prompt_II_ver2**' , I am not deleting the null values, instead I am using Imputers to populate null values for both integer and category, and used column transformer instead of LabelEncoder `\n",
        "\n",
        "\n",
        "\n",
        "\n",
        "\n"
      ]
    },
    {
      "cell_type": "markdown",
      "source": [
        "Read the data from the provided CSV file understand the data before clearning it up"
      ],
      "metadata": {
        "id": "b-S6cYSoZSf2"
      }
    },
    {
      "cell_type": "code",
      "execution_count": 1,
      "metadata": {
        "id": "6xpeUBeIUhLp"
      },
      "outputs": [],
      "source": [
        "# import python libraries\n",
        "\n",
        "import numpy as np\n",
        "import pandas as pd\n",
        "import matplotlib.pyplot as plt\n",
        "import seaborn as sns\n",
        "import plotly.express as px\n",
        "\n",
        "from sklearn.model_selection import train_test_split, GridSearchCV\n",
        "from sklearn.preprocessing import StandardScaler, OneHotEncoder, PolynomialFeatures, StandardScaler, LabelEncoder\n",
        "from sklearn.linear_model import LinearRegression, Ridge, Lasso, BayesianRidge\n",
        "from sklearn.metrics import mean_squared_error, mean_absolute_error, mean_absolute_percentage_error, mean_squared_log_error\n",
        "from sklearn.pipeline import Pipeline\n",
        "from sklearn.feature_selection import RFE\n",
        "from sklearn.impute import SimpleImputer, KNNImputer\n",
        "from sklearn.experimental import enable_iterative_imputer\n",
        "from sklearn.impute import IterativeImputer\n",
        "from sklearn.compose import ColumnTransformer\n",
        "\n",
        "from sklearn.tree import DecisionTreeRegressor\n",
        "from sklearn.neighbors import KNeighborsRegressor\n"
      ]
    },
    {
      "cell_type": "code",
      "execution_count": 2,
      "metadata": {
        "id": "pa-rXgSdUhLp",
        "outputId": "2eef299f-2c07-4100-c63a-6bac0e680642",
        "colab": {
          "base_uri": "https://localhost:8080/"
        }
      },
      "outputs": [
        {
          "output_type": "stream",
          "name": "stdout",
          "text": [
            "Data Size: : (426880, 18)\n"
          ]
        }
      ],
      "source": [
        "#import the data\n",
        "vehicles = pd.read_csv('data/vehicles.csv')\n",
        "print(\"Data Size: : \" + str(vehicles.shape))"
      ]
    },
    {
      "cell_type": "code",
      "execution_count": 3,
      "metadata": {
        "id": "DcBAbbDjUhLp",
        "outputId": "791d24f8-0bd3-46a7-d339-42a16b9b9cff",
        "colab": {
          "base_uri": "https://localhost:8080/",
          "height": 243
        }
      },
      "outputs": [
        {
          "output_type": "execute_result",
          "data": {
            "text/plain": [
              "           id                  region  price  year manufacturer model  \\\n",
              "0  7222695916                prescott   6000   NaN          NaN   NaN   \n",
              "1  7218891961            fayetteville  11900   NaN          NaN   NaN   \n",
              "2  7221797935            florida keys  21000   NaN          NaN   NaN   \n",
              "3  7222270760  worcester / central MA   1500   NaN          NaN   NaN   \n",
              "4  7210384030              greensboro   4900   NaN          NaN   NaN   \n",
              "\n",
              "  condition cylinders fuel  odometer title_status transmission  VIN drive  \\\n",
              "0       NaN       NaN  NaN       NaN          NaN          NaN  NaN   NaN   \n",
              "1       NaN       NaN  NaN       NaN          NaN          NaN  NaN   NaN   \n",
              "2       NaN       NaN  NaN       NaN          NaN          NaN  NaN   NaN   \n",
              "3       NaN       NaN  NaN       NaN          NaN          NaN  NaN   NaN   \n",
              "4       NaN       NaN  NaN       NaN          NaN          NaN  NaN   NaN   \n",
              "\n",
              "  size type paint_color state  \n",
              "0  NaN  NaN         NaN    az  \n",
              "1  NaN  NaN         NaN    ar  \n",
              "2  NaN  NaN         NaN    fl  \n",
              "3  NaN  NaN         NaN    ma  \n",
              "4  NaN  NaN         NaN    nc  "
            ],
            "text/html": [
              "\n",
              "  <div id=\"df-d956f653-6c85-4446-8288-828a1d0de7dc\" class=\"colab-df-container\">\n",
              "    <div>\n",
              "<style scoped>\n",
              "    .dataframe tbody tr th:only-of-type {\n",
              "        vertical-align: middle;\n",
              "    }\n",
              "\n",
              "    .dataframe tbody tr th {\n",
              "        vertical-align: top;\n",
              "    }\n",
              "\n",
              "    .dataframe thead th {\n",
              "        text-align: right;\n",
              "    }\n",
              "</style>\n",
              "<table border=\"1\" class=\"dataframe\">\n",
              "  <thead>\n",
              "    <tr style=\"text-align: right;\">\n",
              "      <th></th>\n",
              "      <th>id</th>\n",
              "      <th>region</th>\n",
              "      <th>price</th>\n",
              "      <th>year</th>\n",
              "      <th>manufacturer</th>\n",
              "      <th>model</th>\n",
              "      <th>condition</th>\n",
              "      <th>cylinders</th>\n",
              "      <th>fuel</th>\n",
              "      <th>odometer</th>\n",
              "      <th>title_status</th>\n",
              "      <th>transmission</th>\n",
              "      <th>VIN</th>\n",
              "      <th>drive</th>\n",
              "      <th>size</th>\n",
              "      <th>type</th>\n",
              "      <th>paint_color</th>\n",
              "      <th>state</th>\n",
              "    </tr>\n",
              "  </thead>\n",
              "  <tbody>\n",
              "    <tr>\n",
              "      <th>0</th>\n",
              "      <td>7222695916</td>\n",
              "      <td>prescott</td>\n",
              "      <td>6000</td>\n",
              "      <td>NaN</td>\n",
              "      <td>NaN</td>\n",
              "      <td>NaN</td>\n",
              "      <td>NaN</td>\n",
              "      <td>NaN</td>\n",
              "      <td>NaN</td>\n",
              "      <td>NaN</td>\n",
              "      <td>NaN</td>\n",
              "      <td>NaN</td>\n",
              "      <td>NaN</td>\n",
              "      <td>NaN</td>\n",
              "      <td>NaN</td>\n",
              "      <td>NaN</td>\n",
              "      <td>NaN</td>\n",
              "      <td>az</td>\n",
              "    </tr>\n",
              "    <tr>\n",
              "      <th>1</th>\n",
              "      <td>7218891961</td>\n",
              "      <td>fayetteville</td>\n",
              "      <td>11900</td>\n",
              "      <td>NaN</td>\n",
              "      <td>NaN</td>\n",
              "      <td>NaN</td>\n",
              "      <td>NaN</td>\n",
              "      <td>NaN</td>\n",
              "      <td>NaN</td>\n",
              "      <td>NaN</td>\n",
              "      <td>NaN</td>\n",
              "      <td>NaN</td>\n",
              "      <td>NaN</td>\n",
              "      <td>NaN</td>\n",
              "      <td>NaN</td>\n",
              "      <td>NaN</td>\n",
              "      <td>NaN</td>\n",
              "      <td>ar</td>\n",
              "    </tr>\n",
              "    <tr>\n",
              "      <th>2</th>\n",
              "      <td>7221797935</td>\n",
              "      <td>florida keys</td>\n",
              "      <td>21000</td>\n",
              "      <td>NaN</td>\n",
              "      <td>NaN</td>\n",
              "      <td>NaN</td>\n",
              "      <td>NaN</td>\n",
              "      <td>NaN</td>\n",
              "      <td>NaN</td>\n",
              "      <td>NaN</td>\n",
              "      <td>NaN</td>\n",
              "      <td>NaN</td>\n",
              "      <td>NaN</td>\n",
              "      <td>NaN</td>\n",
              "      <td>NaN</td>\n",
              "      <td>NaN</td>\n",
              "      <td>NaN</td>\n",
              "      <td>fl</td>\n",
              "    </tr>\n",
              "    <tr>\n",
              "      <th>3</th>\n",
              "      <td>7222270760</td>\n",
              "      <td>worcester / central MA</td>\n",
              "      <td>1500</td>\n",
              "      <td>NaN</td>\n",
              "      <td>NaN</td>\n",
              "      <td>NaN</td>\n",
              "      <td>NaN</td>\n",
              "      <td>NaN</td>\n",
              "      <td>NaN</td>\n",
              "      <td>NaN</td>\n",
              "      <td>NaN</td>\n",
              "      <td>NaN</td>\n",
              "      <td>NaN</td>\n",
              "      <td>NaN</td>\n",
              "      <td>NaN</td>\n",
              "      <td>NaN</td>\n",
              "      <td>NaN</td>\n",
              "      <td>ma</td>\n",
              "    </tr>\n",
              "    <tr>\n",
              "      <th>4</th>\n",
              "      <td>7210384030</td>\n",
              "      <td>greensboro</td>\n",
              "      <td>4900</td>\n",
              "      <td>NaN</td>\n",
              "      <td>NaN</td>\n",
              "      <td>NaN</td>\n",
              "      <td>NaN</td>\n",
              "      <td>NaN</td>\n",
              "      <td>NaN</td>\n",
              "      <td>NaN</td>\n",
              "      <td>NaN</td>\n",
              "      <td>NaN</td>\n",
              "      <td>NaN</td>\n",
              "      <td>NaN</td>\n",
              "      <td>NaN</td>\n",
              "      <td>NaN</td>\n",
              "      <td>NaN</td>\n",
              "      <td>nc</td>\n",
              "    </tr>\n",
              "  </tbody>\n",
              "</table>\n",
              "</div>\n",
              "    <div class=\"colab-df-buttons\">\n",
              "\n",
              "  <div class=\"colab-df-container\">\n",
              "    <button class=\"colab-df-convert\" onclick=\"convertToInteractive('df-d956f653-6c85-4446-8288-828a1d0de7dc')\"\n",
              "            title=\"Convert this dataframe to an interactive table.\"\n",
              "            style=\"display:none;\">\n",
              "\n",
              "  <svg xmlns=\"http://www.w3.org/2000/svg\" height=\"24px\" viewBox=\"0 -960 960 960\">\n",
              "    <path d=\"M120-120v-720h720v720H120Zm60-500h600v-160H180v160Zm220 220h160v-160H400v160Zm0 220h160v-160H400v160ZM180-400h160v-160H180v160Zm440 0h160v-160H620v160ZM180-180h160v-160H180v160Zm440 0h160v-160H620v160Z\"/>\n",
              "  </svg>\n",
              "    </button>\n",
              "\n",
              "  <style>\n",
              "    .colab-df-container {\n",
              "      display:flex;\n",
              "      gap: 12px;\n",
              "    }\n",
              "\n",
              "    .colab-df-convert {\n",
              "      background-color: #E8F0FE;\n",
              "      border: none;\n",
              "      border-radius: 50%;\n",
              "      cursor: pointer;\n",
              "      display: none;\n",
              "      fill: #1967D2;\n",
              "      height: 32px;\n",
              "      padding: 0 0 0 0;\n",
              "      width: 32px;\n",
              "    }\n",
              "\n",
              "    .colab-df-convert:hover {\n",
              "      background-color: #E2EBFA;\n",
              "      box-shadow: 0px 1px 2px rgba(60, 64, 67, 0.3), 0px 1px 3px 1px rgba(60, 64, 67, 0.15);\n",
              "      fill: #174EA6;\n",
              "    }\n",
              "\n",
              "    .colab-df-buttons div {\n",
              "      margin-bottom: 4px;\n",
              "    }\n",
              "\n",
              "    [theme=dark] .colab-df-convert {\n",
              "      background-color: #3B4455;\n",
              "      fill: #D2E3FC;\n",
              "    }\n",
              "\n",
              "    [theme=dark] .colab-df-convert:hover {\n",
              "      background-color: #434B5C;\n",
              "      box-shadow: 0px 1px 3px 1px rgba(0, 0, 0, 0.15);\n",
              "      filter: drop-shadow(0px 1px 2px rgba(0, 0, 0, 0.3));\n",
              "      fill: #FFFFFF;\n",
              "    }\n",
              "  </style>\n",
              "\n",
              "    <script>\n",
              "      const buttonEl =\n",
              "        document.querySelector('#df-d956f653-6c85-4446-8288-828a1d0de7dc button.colab-df-convert');\n",
              "      buttonEl.style.display =\n",
              "        google.colab.kernel.accessAllowed ? 'block' : 'none';\n",
              "\n",
              "      async function convertToInteractive(key) {\n",
              "        const element = document.querySelector('#df-d956f653-6c85-4446-8288-828a1d0de7dc');\n",
              "        const dataTable =\n",
              "          await google.colab.kernel.invokeFunction('convertToInteractive',\n",
              "                                                    [key], {});\n",
              "        if (!dataTable) return;\n",
              "\n",
              "        const docLinkHtml = 'Like what you see? Visit the ' +\n",
              "          '<a target=\"_blank\" href=https://colab.research.google.com/notebooks/data_table.ipynb>data table notebook</a>'\n",
              "          + ' to learn more about interactive tables.';\n",
              "        element.innerHTML = '';\n",
              "        dataTable['output_type'] = 'display_data';\n",
              "        await google.colab.output.renderOutput(dataTable, element);\n",
              "        const docLink = document.createElement('div');\n",
              "        docLink.innerHTML = docLinkHtml;\n",
              "        element.appendChild(docLink);\n",
              "      }\n",
              "    </script>\n",
              "  </div>\n",
              "\n",
              "\n",
              "<div id=\"df-05d66073-355d-479b-b5d5-3c1ba3365754\">\n",
              "  <button class=\"colab-df-quickchart\" onclick=\"quickchart('df-05d66073-355d-479b-b5d5-3c1ba3365754')\"\n",
              "            title=\"Suggest charts\"\n",
              "            style=\"display:none;\">\n",
              "\n",
              "<svg xmlns=\"http://www.w3.org/2000/svg\" height=\"24px\"viewBox=\"0 0 24 24\"\n",
              "     width=\"24px\">\n",
              "    <g>\n",
              "        <path d=\"M19 3H5c-1.1 0-2 .9-2 2v14c0 1.1.9 2 2 2h14c1.1 0 2-.9 2-2V5c0-1.1-.9-2-2-2zM9 17H7v-7h2v7zm4 0h-2V7h2v10zm4 0h-2v-4h2v4z\"/>\n",
              "    </g>\n",
              "</svg>\n",
              "  </button>\n",
              "\n",
              "<style>\n",
              "  .colab-df-quickchart {\n",
              "      --bg-color: #E8F0FE;\n",
              "      --fill-color: #1967D2;\n",
              "      --hover-bg-color: #E2EBFA;\n",
              "      --hover-fill-color: #174EA6;\n",
              "      --disabled-fill-color: #AAA;\n",
              "      --disabled-bg-color: #DDD;\n",
              "  }\n",
              "\n",
              "  [theme=dark] .colab-df-quickchart {\n",
              "      --bg-color: #3B4455;\n",
              "      --fill-color: #D2E3FC;\n",
              "      --hover-bg-color: #434B5C;\n",
              "      --hover-fill-color: #FFFFFF;\n",
              "      --disabled-bg-color: #3B4455;\n",
              "      --disabled-fill-color: #666;\n",
              "  }\n",
              "\n",
              "  .colab-df-quickchart {\n",
              "    background-color: var(--bg-color);\n",
              "    border: none;\n",
              "    border-radius: 50%;\n",
              "    cursor: pointer;\n",
              "    display: none;\n",
              "    fill: var(--fill-color);\n",
              "    height: 32px;\n",
              "    padding: 0;\n",
              "    width: 32px;\n",
              "  }\n",
              "\n",
              "  .colab-df-quickchart:hover {\n",
              "    background-color: var(--hover-bg-color);\n",
              "    box-shadow: 0 1px 2px rgba(60, 64, 67, 0.3), 0 1px 3px 1px rgba(60, 64, 67, 0.15);\n",
              "    fill: var(--button-hover-fill-color);\n",
              "  }\n",
              "\n",
              "  .colab-df-quickchart-complete:disabled,\n",
              "  .colab-df-quickchart-complete:disabled:hover {\n",
              "    background-color: var(--disabled-bg-color);\n",
              "    fill: var(--disabled-fill-color);\n",
              "    box-shadow: none;\n",
              "  }\n",
              "\n",
              "  .colab-df-spinner {\n",
              "    border: 2px solid var(--fill-color);\n",
              "    border-color: transparent;\n",
              "    border-bottom-color: var(--fill-color);\n",
              "    animation:\n",
              "      spin 1s steps(1) infinite;\n",
              "  }\n",
              "\n",
              "  @keyframes spin {\n",
              "    0% {\n",
              "      border-color: transparent;\n",
              "      border-bottom-color: var(--fill-color);\n",
              "      border-left-color: var(--fill-color);\n",
              "    }\n",
              "    20% {\n",
              "      border-color: transparent;\n",
              "      border-left-color: var(--fill-color);\n",
              "      border-top-color: var(--fill-color);\n",
              "    }\n",
              "    30% {\n",
              "      border-color: transparent;\n",
              "      border-left-color: var(--fill-color);\n",
              "      border-top-color: var(--fill-color);\n",
              "      border-right-color: var(--fill-color);\n",
              "    }\n",
              "    40% {\n",
              "      border-color: transparent;\n",
              "      border-right-color: var(--fill-color);\n",
              "      border-top-color: var(--fill-color);\n",
              "    }\n",
              "    60% {\n",
              "      border-color: transparent;\n",
              "      border-right-color: var(--fill-color);\n",
              "    }\n",
              "    80% {\n",
              "      border-color: transparent;\n",
              "      border-right-color: var(--fill-color);\n",
              "      border-bottom-color: var(--fill-color);\n",
              "    }\n",
              "    90% {\n",
              "      border-color: transparent;\n",
              "      border-bottom-color: var(--fill-color);\n",
              "    }\n",
              "  }\n",
              "</style>\n",
              "\n",
              "  <script>\n",
              "    async function quickchart(key) {\n",
              "      const quickchartButtonEl =\n",
              "        document.querySelector('#' + key + ' button');\n",
              "      quickchartButtonEl.disabled = true;  // To prevent multiple clicks.\n",
              "      quickchartButtonEl.classList.add('colab-df-spinner');\n",
              "      try {\n",
              "        const charts = await google.colab.kernel.invokeFunction(\n",
              "            'suggestCharts', [key], {});\n",
              "      } catch (error) {\n",
              "        console.error('Error during call to suggestCharts:', error);\n",
              "      }\n",
              "      quickchartButtonEl.classList.remove('colab-df-spinner');\n",
              "      quickchartButtonEl.classList.add('colab-df-quickchart-complete');\n",
              "    }\n",
              "    (() => {\n",
              "      let quickchartButtonEl =\n",
              "        document.querySelector('#df-05d66073-355d-479b-b5d5-3c1ba3365754 button');\n",
              "      quickchartButtonEl.style.display =\n",
              "        google.colab.kernel.accessAllowed ? 'block' : 'none';\n",
              "    })();\n",
              "  </script>\n",
              "</div>\n",
              "\n",
              "    </div>\n",
              "  </div>\n"
            ],
            "application/vnd.google.colaboratory.intrinsic+json": {
              "type": "dataframe",
              "variable_name": "vehicles"
            }
          },
          "metadata": {},
          "execution_count": 3
        }
      ],
      "source": [
        "#preview data\n",
        "vehicles.head()"
      ]
    },
    {
      "cell_type": "code",
      "execution_count": 4,
      "metadata": {
        "id": "mSbfmkmqUhLp",
        "outputId": "3552b9fd-ee22-4653-dcba-6da14cf690d4",
        "colab": {
          "base_uri": "https://localhost:8080/"
        }
      },
      "outputs": [
        {
          "output_type": "stream",
          "name": "stdout",
          "text": [
            "<class 'pandas.core.frame.DataFrame'>\n",
            "RangeIndex: 426880 entries, 0 to 426879\n",
            "Data columns (total 18 columns):\n",
            " #   Column        Non-Null Count   Dtype  \n",
            "---  ------        --------------   -----  \n",
            " 0   id            426880 non-null  int64  \n",
            " 1   region        426880 non-null  object \n",
            " 2   price         426880 non-null  int64  \n",
            " 3   year          425675 non-null  float64\n",
            " 4   manufacturer  409234 non-null  object \n",
            " 5   model         421603 non-null  object \n",
            " 6   condition     252776 non-null  object \n",
            " 7   cylinders     249202 non-null  object \n",
            " 8   fuel          423867 non-null  object \n",
            " 9   odometer      422480 non-null  float64\n",
            " 10  title_status  418638 non-null  object \n",
            " 11  transmission  424324 non-null  object \n",
            " 12  VIN           265838 non-null  object \n",
            " 13  drive         296313 non-null  object \n",
            " 14  size          120519 non-null  object \n",
            " 15  type          334022 non-null  object \n",
            " 16  paint_color   296677 non-null  object \n",
            " 17  state         426880 non-null  object \n",
            "dtypes: float64(2), int64(2), object(14)\n",
            "memory usage: 58.6+ MB\n"
          ]
        }
      ],
      "source": [
        "vehicles.info()"
      ]
    },
    {
      "cell_type": "code",
      "source": [
        "# create a data frame with missing values and percentage of missing values for each column\n",
        "def missing_df(df):\n",
        "  total_missing_value = df.isnull().sum()\n",
        "  percent_missing_value = round(total_missing_value*100/len(df),2)\n",
        "  missing_valus_df = pd.DataFrame({'count': total_missing_value, 'percentage': percent_missing_value})\n",
        "  return missing_valus_df\n",
        "\n",
        "missing_data = missing_df(vehicles)\n",
        "missing_data[missing_data['count']>0]"
      ],
      "metadata": {
        "id": "VChQfnU-cTUn",
        "outputId": "0cb1b08f-e054-47ff-9bca-4d09f12ce84d",
        "colab": {
          "base_uri": "https://localhost:8080/",
          "height": 488
        }
      },
      "execution_count": 5,
      "outputs": [
        {
          "output_type": "execute_result",
          "data": {
            "text/plain": [
              "               count  percentage\n",
              "year            1205        0.28\n",
              "manufacturer   17646        4.13\n",
              "model           5277        1.24\n",
              "condition     174104       40.79\n",
              "cylinders     177678       41.62\n",
              "fuel            3013        0.71\n",
              "odometer        4400        1.03\n",
              "title_status    8242        1.93\n",
              "transmission    2556        0.60\n",
              "VIN           161042       37.73\n",
              "drive         130567       30.59\n",
              "size          306361       71.77\n",
              "type           92858       21.75\n",
              "paint_color   130203       30.50"
            ],
            "text/html": [
              "\n",
              "  <div id=\"df-78c34739-c818-44bf-abaa-8850f6ea05c9\" class=\"colab-df-container\">\n",
              "    <div>\n",
              "<style scoped>\n",
              "    .dataframe tbody tr th:only-of-type {\n",
              "        vertical-align: middle;\n",
              "    }\n",
              "\n",
              "    .dataframe tbody tr th {\n",
              "        vertical-align: top;\n",
              "    }\n",
              "\n",
              "    .dataframe thead th {\n",
              "        text-align: right;\n",
              "    }\n",
              "</style>\n",
              "<table border=\"1\" class=\"dataframe\">\n",
              "  <thead>\n",
              "    <tr style=\"text-align: right;\">\n",
              "      <th></th>\n",
              "      <th>count</th>\n",
              "      <th>percentage</th>\n",
              "    </tr>\n",
              "  </thead>\n",
              "  <tbody>\n",
              "    <tr>\n",
              "      <th>year</th>\n",
              "      <td>1205</td>\n",
              "      <td>0.28</td>\n",
              "    </tr>\n",
              "    <tr>\n",
              "      <th>manufacturer</th>\n",
              "      <td>17646</td>\n",
              "      <td>4.13</td>\n",
              "    </tr>\n",
              "    <tr>\n",
              "      <th>model</th>\n",
              "      <td>5277</td>\n",
              "      <td>1.24</td>\n",
              "    </tr>\n",
              "    <tr>\n",
              "      <th>condition</th>\n",
              "      <td>174104</td>\n",
              "      <td>40.79</td>\n",
              "    </tr>\n",
              "    <tr>\n",
              "      <th>cylinders</th>\n",
              "      <td>177678</td>\n",
              "      <td>41.62</td>\n",
              "    </tr>\n",
              "    <tr>\n",
              "      <th>fuel</th>\n",
              "      <td>3013</td>\n",
              "      <td>0.71</td>\n",
              "    </tr>\n",
              "    <tr>\n",
              "      <th>odometer</th>\n",
              "      <td>4400</td>\n",
              "      <td>1.03</td>\n",
              "    </tr>\n",
              "    <tr>\n",
              "      <th>title_status</th>\n",
              "      <td>8242</td>\n",
              "      <td>1.93</td>\n",
              "    </tr>\n",
              "    <tr>\n",
              "      <th>transmission</th>\n",
              "      <td>2556</td>\n",
              "      <td>0.60</td>\n",
              "    </tr>\n",
              "    <tr>\n",
              "      <th>VIN</th>\n",
              "      <td>161042</td>\n",
              "      <td>37.73</td>\n",
              "    </tr>\n",
              "    <tr>\n",
              "      <th>drive</th>\n",
              "      <td>130567</td>\n",
              "      <td>30.59</td>\n",
              "    </tr>\n",
              "    <tr>\n",
              "      <th>size</th>\n",
              "      <td>306361</td>\n",
              "      <td>71.77</td>\n",
              "    </tr>\n",
              "    <tr>\n",
              "      <th>type</th>\n",
              "      <td>92858</td>\n",
              "      <td>21.75</td>\n",
              "    </tr>\n",
              "    <tr>\n",
              "      <th>paint_color</th>\n",
              "      <td>130203</td>\n",
              "      <td>30.50</td>\n",
              "    </tr>\n",
              "  </tbody>\n",
              "</table>\n",
              "</div>\n",
              "    <div class=\"colab-df-buttons\">\n",
              "\n",
              "  <div class=\"colab-df-container\">\n",
              "    <button class=\"colab-df-convert\" onclick=\"convertToInteractive('df-78c34739-c818-44bf-abaa-8850f6ea05c9')\"\n",
              "            title=\"Convert this dataframe to an interactive table.\"\n",
              "            style=\"display:none;\">\n",
              "\n",
              "  <svg xmlns=\"http://www.w3.org/2000/svg\" height=\"24px\" viewBox=\"0 -960 960 960\">\n",
              "    <path d=\"M120-120v-720h720v720H120Zm60-500h600v-160H180v160Zm220 220h160v-160H400v160Zm0 220h160v-160H400v160ZM180-400h160v-160H180v160Zm440 0h160v-160H620v160ZM180-180h160v-160H180v160Zm440 0h160v-160H620v160Z\"/>\n",
              "  </svg>\n",
              "    </button>\n",
              "\n",
              "  <style>\n",
              "    .colab-df-container {\n",
              "      display:flex;\n",
              "      gap: 12px;\n",
              "    }\n",
              "\n",
              "    .colab-df-convert {\n",
              "      background-color: #E8F0FE;\n",
              "      border: none;\n",
              "      border-radius: 50%;\n",
              "      cursor: pointer;\n",
              "      display: none;\n",
              "      fill: #1967D2;\n",
              "      height: 32px;\n",
              "      padding: 0 0 0 0;\n",
              "      width: 32px;\n",
              "    }\n",
              "\n",
              "    .colab-df-convert:hover {\n",
              "      background-color: #E2EBFA;\n",
              "      box-shadow: 0px 1px 2px rgba(60, 64, 67, 0.3), 0px 1px 3px 1px rgba(60, 64, 67, 0.15);\n",
              "      fill: #174EA6;\n",
              "    }\n",
              "\n",
              "    .colab-df-buttons div {\n",
              "      margin-bottom: 4px;\n",
              "    }\n",
              "\n",
              "    [theme=dark] .colab-df-convert {\n",
              "      background-color: #3B4455;\n",
              "      fill: #D2E3FC;\n",
              "    }\n",
              "\n",
              "    [theme=dark] .colab-df-convert:hover {\n",
              "      background-color: #434B5C;\n",
              "      box-shadow: 0px 1px 3px 1px rgba(0, 0, 0, 0.15);\n",
              "      filter: drop-shadow(0px 1px 2px rgba(0, 0, 0, 0.3));\n",
              "      fill: #FFFFFF;\n",
              "    }\n",
              "  </style>\n",
              "\n",
              "    <script>\n",
              "      const buttonEl =\n",
              "        document.querySelector('#df-78c34739-c818-44bf-abaa-8850f6ea05c9 button.colab-df-convert');\n",
              "      buttonEl.style.display =\n",
              "        google.colab.kernel.accessAllowed ? 'block' : 'none';\n",
              "\n",
              "      async function convertToInteractive(key) {\n",
              "        const element = document.querySelector('#df-78c34739-c818-44bf-abaa-8850f6ea05c9');\n",
              "        const dataTable =\n",
              "          await google.colab.kernel.invokeFunction('convertToInteractive',\n",
              "                                                    [key], {});\n",
              "        if (!dataTable) return;\n",
              "\n",
              "        const docLinkHtml = 'Like what you see? Visit the ' +\n",
              "          '<a target=\"_blank\" href=https://colab.research.google.com/notebooks/data_table.ipynb>data table notebook</a>'\n",
              "          + ' to learn more about interactive tables.';\n",
              "        element.innerHTML = '';\n",
              "        dataTable['output_type'] = 'display_data';\n",
              "        await google.colab.output.renderOutput(dataTable, element);\n",
              "        const docLink = document.createElement('div');\n",
              "        docLink.innerHTML = docLinkHtml;\n",
              "        element.appendChild(docLink);\n",
              "      }\n",
              "    </script>\n",
              "  </div>\n",
              "\n",
              "\n",
              "<div id=\"df-f652ce6c-e9c7-457d-8c44-9381fa1233a9\">\n",
              "  <button class=\"colab-df-quickchart\" onclick=\"quickchart('df-f652ce6c-e9c7-457d-8c44-9381fa1233a9')\"\n",
              "            title=\"Suggest charts\"\n",
              "            style=\"display:none;\">\n",
              "\n",
              "<svg xmlns=\"http://www.w3.org/2000/svg\" height=\"24px\"viewBox=\"0 0 24 24\"\n",
              "     width=\"24px\">\n",
              "    <g>\n",
              "        <path d=\"M19 3H5c-1.1 0-2 .9-2 2v14c0 1.1.9 2 2 2h14c1.1 0 2-.9 2-2V5c0-1.1-.9-2-2-2zM9 17H7v-7h2v7zm4 0h-2V7h2v10zm4 0h-2v-4h2v4z\"/>\n",
              "    </g>\n",
              "</svg>\n",
              "  </button>\n",
              "\n",
              "<style>\n",
              "  .colab-df-quickchart {\n",
              "      --bg-color: #E8F0FE;\n",
              "      --fill-color: #1967D2;\n",
              "      --hover-bg-color: #E2EBFA;\n",
              "      --hover-fill-color: #174EA6;\n",
              "      --disabled-fill-color: #AAA;\n",
              "      --disabled-bg-color: #DDD;\n",
              "  }\n",
              "\n",
              "  [theme=dark] .colab-df-quickchart {\n",
              "      --bg-color: #3B4455;\n",
              "      --fill-color: #D2E3FC;\n",
              "      --hover-bg-color: #434B5C;\n",
              "      --hover-fill-color: #FFFFFF;\n",
              "      --disabled-bg-color: #3B4455;\n",
              "      --disabled-fill-color: #666;\n",
              "  }\n",
              "\n",
              "  .colab-df-quickchart {\n",
              "    background-color: var(--bg-color);\n",
              "    border: none;\n",
              "    border-radius: 50%;\n",
              "    cursor: pointer;\n",
              "    display: none;\n",
              "    fill: var(--fill-color);\n",
              "    height: 32px;\n",
              "    padding: 0;\n",
              "    width: 32px;\n",
              "  }\n",
              "\n",
              "  .colab-df-quickchart:hover {\n",
              "    background-color: var(--hover-bg-color);\n",
              "    box-shadow: 0 1px 2px rgba(60, 64, 67, 0.3), 0 1px 3px 1px rgba(60, 64, 67, 0.15);\n",
              "    fill: var(--button-hover-fill-color);\n",
              "  }\n",
              "\n",
              "  .colab-df-quickchart-complete:disabled,\n",
              "  .colab-df-quickchart-complete:disabled:hover {\n",
              "    background-color: var(--disabled-bg-color);\n",
              "    fill: var(--disabled-fill-color);\n",
              "    box-shadow: none;\n",
              "  }\n",
              "\n",
              "  .colab-df-spinner {\n",
              "    border: 2px solid var(--fill-color);\n",
              "    border-color: transparent;\n",
              "    border-bottom-color: var(--fill-color);\n",
              "    animation:\n",
              "      spin 1s steps(1) infinite;\n",
              "  }\n",
              "\n",
              "  @keyframes spin {\n",
              "    0% {\n",
              "      border-color: transparent;\n",
              "      border-bottom-color: var(--fill-color);\n",
              "      border-left-color: var(--fill-color);\n",
              "    }\n",
              "    20% {\n",
              "      border-color: transparent;\n",
              "      border-left-color: var(--fill-color);\n",
              "      border-top-color: var(--fill-color);\n",
              "    }\n",
              "    30% {\n",
              "      border-color: transparent;\n",
              "      border-left-color: var(--fill-color);\n",
              "      border-top-color: var(--fill-color);\n",
              "      border-right-color: var(--fill-color);\n",
              "    }\n",
              "    40% {\n",
              "      border-color: transparent;\n",
              "      border-right-color: var(--fill-color);\n",
              "      border-top-color: var(--fill-color);\n",
              "    }\n",
              "    60% {\n",
              "      border-color: transparent;\n",
              "      border-right-color: var(--fill-color);\n",
              "    }\n",
              "    80% {\n",
              "      border-color: transparent;\n",
              "      border-right-color: var(--fill-color);\n",
              "      border-bottom-color: var(--fill-color);\n",
              "    }\n",
              "    90% {\n",
              "      border-color: transparent;\n",
              "      border-bottom-color: var(--fill-color);\n",
              "    }\n",
              "  }\n",
              "</style>\n",
              "\n",
              "  <script>\n",
              "    async function quickchart(key) {\n",
              "      const quickchartButtonEl =\n",
              "        document.querySelector('#' + key + ' button');\n",
              "      quickchartButtonEl.disabled = true;  // To prevent multiple clicks.\n",
              "      quickchartButtonEl.classList.add('colab-df-spinner');\n",
              "      try {\n",
              "        const charts = await google.colab.kernel.invokeFunction(\n",
              "            'suggestCharts', [key], {});\n",
              "      } catch (error) {\n",
              "        console.error('Error during call to suggestCharts:', error);\n",
              "      }\n",
              "      quickchartButtonEl.classList.remove('colab-df-spinner');\n",
              "      quickchartButtonEl.classList.add('colab-df-quickchart-complete');\n",
              "    }\n",
              "    (() => {\n",
              "      let quickchartButtonEl =\n",
              "        document.querySelector('#df-f652ce6c-e9c7-457d-8c44-9381fa1233a9 button');\n",
              "      quickchartButtonEl.style.display =\n",
              "        google.colab.kernel.accessAllowed ? 'block' : 'none';\n",
              "    })();\n",
              "  </script>\n",
              "</div>\n",
              "\n",
              "    </div>\n",
              "  </div>\n"
            ],
            "application/vnd.google.colaboratory.intrinsic+json": {
              "type": "dataframe",
              "summary": "{\n  \"name\": \"missing_data[missing_data['count']>0]\",\n  \"rows\": 14,\n  \"fields\": [\n    {\n      \"column\": \"count\",\n      \"properties\": {\n        \"dtype\": \"number\",\n        \"std\": 95783,\n        \"min\": 1205,\n        \"max\": 306361,\n        \"num_unique_values\": 14,\n        \"samples\": [\n          161042,\n          306361,\n          1205\n        ],\n        \"semantic_type\": \"\",\n        \"description\": \"\"\n      }\n    },\n    {\n      \"column\": \"percentage\",\n      \"properties\": {\n        \"dtype\": \"number\",\n        \"std\": 22.438908381217196,\n        \"min\": 0.28,\n        \"max\": 71.77,\n        \"num_unique_values\": 14,\n        \"samples\": [\n          37.73,\n          71.77,\n          0.28\n        ],\n        \"semantic_type\": \"\",\n        \"description\": \"\"\n      }\n    }\n  ]\n}"
            }
          },
          "metadata": {},
          "execution_count": 5
        }
      ]
    },
    {
      "cell_type": "markdown",
      "source": [
        "**Observation** : From the above table, we can observe that 'Size' attribute has around 72 % empty values, 'cyliders' has around 42 % and 'condition' attribute has around 41% of empty values/"
      ],
      "metadata": {
        "id": "vTEuKb9vgn8C"
      }
    },
    {
      "cell_type": "code",
      "source": [
        "# find the unique values in each column\n",
        "unique_vals = vehicles.nunique(axis=0)\n",
        "unique_vals"
      ],
      "metadata": {
        "id": "cxKk3IUWdtFH",
        "outputId": "c2eaee22-e283-4e9e-8cb4-fe9f88782acc",
        "colab": {
          "base_uri": "https://localhost:8080/",
          "height": 648
        }
      },
      "execution_count": 6,
      "outputs": [
        {
          "output_type": "execute_result",
          "data": {
            "text/plain": [
              "id              426880\n",
              "region             404\n",
              "price            15655\n",
              "year               114\n",
              "manufacturer        42\n",
              "model            29649\n",
              "condition            6\n",
              "cylinders            8\n",
              "fuel                 5\n",
              "odometer        104870\n",
              "title_status         6\n",
              "transmission         3\n",
              "VIN             118246\n",
              "drive                3\n",
              "size                 4\n",
              "type                13\n",
              "paint_color         12\n",
              "state               51\n",
              "dtype: int64"
            ],
            "text/html": [
              "<div>\n",
              "<style scoped>\n",
              "    .dataframe tbody tr th:only-of-type {\n",
              "        vertical-align: middle;\n",
              "    }\n",
              "\n",
              "    .dataframe tbody tr th {\n",
              "        vertical-align: top;\n",
              "    }\n",
              "\n",
              "    .dataframe thead th {\n",
              "        text-align: right;\n",
              "    }\n",
              "</style>\n",
              "<table border=\"1\" class=\"dataframe\">\n",
              "  <thead>\n",
              "    <tr style=\"text-align: right;\">\n",
              "      <th></th>\n",
              "      <th>0</th>\n",
              "    </tr>\n",
              "  </thead>\n",
              "  <tbody>\n",
              "    <tr>\n",
              "      <th>id</th>\n",
              "      <td>426880</td>\n",
              "    </tr>\n",
              "    <tr>\n",
              "      <th>region</th>\n",
              "      <td>404</td>\n",
              "    </tr>\n",
              "    <tr>\n",
              "      <th>price</th>\n",
              "      <td>15655</td>\n",
              "    </tr>\n",
              "    <tr>\n",
              "      <th>year</th>\n",
              "      <td>114</td>\n",
              "    </tr>\n",
              "    <tr>\n",
              "      <th>manufacturer</th>\n",
              "      <td>42</td>\n",
              "    </tr>\n",
              "    <tr>\n",
              "      <th>model</th>\n",
              "      <td>29649</td>\n",
              "    </tr>\n",
              "    <tr>\n",
              "      <th>condition</th>\n",
              "      <td>6</td>\n",
              "    </tr>\n",
              "    <tr>\n",
              "      <th>cylinders</th>\n",
              "      <td>8</td>\n",
              "    </tr>\n",
              "    <tr>\n",
              "      <th>fuel</th>\n",
              "      <td>5</td>\n",
              "    </tr>\n",
              "    <tr>\n",
              "      <th>odometer</th>\n",
              "      <td>104870</td>\n",
              "    </tr>\n",
              "    <tr>\n",
              "      <th>title_status</th>\n",
              "      <td>6</td>\n",
              "    </tr>\n",
              "    <tr>\n",
              "      <th>transmission</th>\n",
              "      <td>3</td>\n",
              "    </tr>\n",
              "    <tr>\n",
              "      <th>VIN</th>\n",
              "      <td>118246</td>\n",
              "    </tr>\n",
              "    <tr>\n",
              "      <th>drive</th>\n",
              "      <td>3</td>\n",
              "    </tr>\n",
              "    <tr>\n",
              "      <th>size</th>\n",
              "      <td>4</td>\n",
              "    </tr>\n",
              "    <tr>\n",
              "      <th>type</th>\n",
              "      <td>13</td>\n",
              "    </tr>\n",
              "    <tr>\n",
              "      <th>paint_color</th>\n",
              "      <td>12</td>\n",
              "    </tr>\n",
              "    <tr>\n",
              "      <th>state</th>\n",
              "      <td>51</td>\n",
              "    </tr>\n",
              "  </tbody>\n",
              "</table>\n",
              "</div><br><label><b>dtype:</b> int64</label>"
            ]
          },
          "metadata": {},
          "execution_count": 6
        }
      ]
    },
    {
      "cell_type": "code",
      "source": [
        "# describe data\n",
        "pd.options.display.float_format = '{:.2f}'.format\n",
        "vehicles.describe()"
      ],
      "metadata": {
        "id": "KZKb8hYieY8y",
        "outputId": "947cb17a-196d-4b07-b8c4-52c28f44afbf",
        "colab": {
          "base_uri": "https://localhost:8080/",
          "height": 300
        }
      },
      "execution_count": 7,
      "outputs": [
        {
          "output_type": "execute_result",
          "data": {
            "text/plain": [
              "                 id         price      year    odometer\n",
              "count     426880.00     426880.00 425675.00   422480.00\n",
              "mean  7311486634.22      75199.03   2011.24    98043.33\n",
              "std      4473170.41   12182282.17      9.45   213881.50\n",
              "min   7207408119.00          0.00   1900.00        0.00\n",
              "25%   7308143339.25       5900.00   2008.00    37704.00\n",
              "50%   7312620821.00      13950.00   2013.00    85548.00\n",
              "75%   7315253543.50      26485.75   2017.00   133542.50\n",
              "max   7317101084.00 3736928711.00   2022.00 10000000.00"
            ],
            "text/html": [
              "\n",
              "  <div id=\"df-14673397-8359-4274-ab18-b32af8642960\" class=\"colab-df-container\">\n",
              "    <div>\n",
              "<style scoped>\n",
              "    .dataframe tbody tr th:only-of-type {\n",
              "        vertical-align: middle;\n",
              "    }\n",
              "\n",
              "    .dataframe tbody tr th {\n",
              "        vertical-align: top;\n",
              "    }\n",
              "\n",
              "    .dataframe thead th {\n",
              "        text-align: right;\n",
              "    }\n",
              "</style>\n",
              "<table border=\"1\" class=\"dataframe\">\n",
              "  <thead>\n",
              "    <tr style=\"text-align: right;\">\n",
              "      <th></th>\n",
              "      <th>id</th>\n",
              "      <th>price</th>\n",
              "      <th>year</th>\n",
              "      <th>odometer</th>\n",
              "    </tr>\n",
              "  </thead>\n",
              "  <tbody>\n",
              "    <tr>\n",
              "      <th>count</th>\n",
              "      <td>426880.00</td>\n",
              "      <td>426880.00</td>\n",
              "      <td>425675.00</td>\n",
              "      <td>422480.00</td>\n",
              "    </tr>\n",
              "    <tr>\n",
              "      <th>mean</th>\n",
              "      <td>7311486634.22</td>\n",
              "      <td>75199.03</td>\n",
              "      <td>2011.24</td>\n",
              "      <td>98043.33</td>\n",
              "    </tr>\n",
              "    <tr>\n",
              "      <th>std</th>\n",
              "      <td>4473170.41</td>\n",
              "      <td>12182282.17</td>\n",
              "      <td>9.45</td>\n",
              "      <td>213881.50</td>\n",
              "    </tr>\n",
              "    <tr>\n",
              "      <th>min</th>\n",
              "      <td>7207408119.00</td>\n",
              "      <td>0.00</td>\n",
              "      <td>1900.00</td>\n",
              "      <td>0.00</td>\n",
              "    </tr>\n",
              "    <tr>\n",
              "      <th>25%</th>\n",
              "      <td>7308143339.25</td>\n",
              "      <td>5900.00</td>\n",
              "      <td>2008.00</td>\n",
              "      <td>37704.00</td>\n",
              "    </tr>\n",
              "    <tr>\n",
              "      <th>50%</th>\n",
              "      <td>7312620821.00</td>\n",
              "      <td>13950.00</td>\n",
              "      <td>2013.00</td>\n",
              "      <td>85548.00</td>\n",
              "    </tr>\n",
              "    <tr>\n",
              "      <th>75%</th>\n",
              "      <td>7315253543.50</td>\n",
              "      <td>26485.75</td>\n",
              "      <td>2017.00</td>\n",
              "      <td>133542.50</td>\n",
              "    </tr>\n",
              "    <tr>\n",
              "      <th>max</th>\n",
              "      <td>7317101084.00</td>\n",
              "      <td>3736928711.00</td>\n",
              "      <td>2022.00</td>\n",
              "      <td>10000000.00</td>\n",
              "    </tr>\n",
              "  </tbody>\n",
              "</table>\n",
              "</div>\n",
              "    <div class=\"colab-df-buttons\">\n",
              "\n",
              "  <div class=\"colab-df-container\">\n",
              "    <button class=\"colab-df-convert\" onclick=\"convertToInteractive('df-14673397-8359-4274-ab18-b32af8642960')\"\n",
              "            title=\"Convert this dataframe to an interactive table.\"\n",
              "            style=\"display:none;\">\n",
              "\n",
              "  <svg xmlns=\"http://www.w3.org/2000/svg\" height=\"24px\" viewBox=\"0 -960 960 960\">\n",
              "    <path d=\"M120-120v-720h720v720H120Zm60-500h600v-160H180v160Zm220 220h160v-160H400v160Zm0 220h160v-160H400v160ZM180-400h160v-160H180v160Zm440 0h160v-160H620v160ZM180-180h160v-160H180v160Zm440 0h160v-160H620v160Z\"/>\n",
              "  </svg>\n",
              "    </button>\n",
              "\n",
              "  <style>\n",
              "    .colab-df-container {\n",
              "      display:flex;\n",
              "      gap: 12px;\n",
              "    }\n",
              "\n",
              "    .colab-df-convert {\n",
              "      background-color: #E8F0FE;\n",
              "      border: none;\n",
              "      border-radius: 50%;\n",
              "      cursor: pointer;\n",
              "      display: none;\n",
              "      fill: #1967D2;\n",
              "      height: 32px;\n",
              "      padding: 0 0 0 0;\n",
              "      width: 32px;\n",
              "    }\n",
              "\n",
              "    .colab-df-convert:hover {\n",
              "      background-color: #E2EBFA;\n",
              "      box-shadow: 0px 1px 2px rgba(60, 64, 67, 0.3), 0px 1px 3px 1px rgba(60, 64, 67, 0.15);\n",
              "      fill: #174EA6;\n",
              "    }\n",
              "\n",
              "    .colab-df-buttons div {\n",
              "      margin-bottom: 4px;\n",
              "    }\n",
              "\n",
              "    [theme=dark] .colab-df-convert {\n",
              "      background-color: #3B4455;\n",
              "      fill: #D2E3FC;\n",
              "    }\n",
              "\n",
              "    [theme=dark] .colab-df-convert:hover {\n",
              "      background-color: #434B5C;\n",
              "      box-shadow: 0px 1px 3px 1px rgba(0, 0, 0, 0.15);\n",
              "      filter: drop-shadow(0px 1px 2px rgba(0, 0, 0, 0.3));\n",
              "      fill: #FFFFFF;\n",
              "    }\n",
              "  </style>\n",
              "\n",
              "    <script>\n",
              "      const buttonEl =\n",
              "        document.querySelector('#df-14673397-8359-4274-ab18-b32af8642960 button.colab-df-convert');\n",
              "      buttonEl.style.display =\n",
              "        google.colab.kernel.accessAllowed ? 'block' : 'none';\n",
              "\n",
              "      async function convertToInteractive(key) {\n",
              "        const element = document.querySelector('#df-14673397-8359-4274-ab18-b32af8642960');\n",
              "        const dataTable =\n",
              "          await google.colab.kernel.invokeFunction('convertToInteractive',\n",
              "                                                    [key], {});\n",
              "        if (!dataTable) return;\n",
              "\n",
              "        const docLinkHtml = 'Like what you see? Visit the ' +\n",
              "          '<a target=\"_blank\" href=https://colab.research.google.com/notebooks/data_table.ipynb>data table notebook</a>'\n",
              "          + ' to learn more about interactive tables.';\n",
              "        element.innerHTML = '';\n",
              "        dataTable['output_type'] = 'display_data';\n",
              "        await google.colab.output.renderOutput(dataTable, element);\n",
              "        const docLink = document.createElement('div');\n",
              "        docLink.innerHTML = docLinkHtml;\n",
              "        element.appendChild(docLink);\n",
              "      }\n",
              "    </script>\n",
              "  </div>\n",
              "\n",
              "\n",
              "<div id=\"df-413ec1fa-1324-47cb-b024-ee57a0332817\">\n",
              "  <button class=\"colab-df-quickchart\" onclick=\"quickchart('df-413ec1fa-1324-47cb-b024-ee57a0332817')\"\n",
              "            title=\"Suggest charts\"\n",
              "            style=\"display:none;\">\n",
              "\n",
              "<svg xmlns=\"http://www.w3.org/2000/svg\" height=\"24px\"viewBox=\"0 0 24 24\"\n",
              "     width=\"24px\">\n",
              "    <g>\n",
              "        <path d=\"M19 3H5c-1.1 0-2 .9-2 2v14c0 1.1.9 2 2 2h14c1.1 0 2-.9 2-2V5c0-1.1-.9-2-2-2zM9 17H7v-7h2v7zm4 0h-2V7h2v10zm4 0h-2v-4h2v4z\"/>\n",
              "    </g>\n",
              "</svg>\n",
              "  </button>\n",
              "\n",
              "<style>\n",
              "  .colab-df-quickchart {\n",
              "      --bg-color: #E8F0FE;\n",
              "      --fill-color: #1967D2;\n",
              "      --hover-bg-color: #E2EBFA;\n",
              "      --hover-fill-color: #174EA6;\n",
              "      --disabled-fill-color: #AAA;\n",
              "      --disabled-bg-color: #DDD;\n",
              "  }\n",
              "\n",
              "  [theme=dark] .colab-df-quickchart {\n",
              "      --bg-color: #3B4455;\n",
              "      --fill-color: #D2E3FC;\n",
              "      --hover-bg-color: #434B5C;\n",
              "      --hover-fill-color: #FFFFFF;\n",
              "      --disabled-bg-color: #3B4455;\n",
              "      --disabled-fill-color: #666;\n",
              "  }\n",
              "\n",
              "  .colab-df-quickchart {\n",
              "    background-color: var(--bg-color);\n",
              "    border: none;\n",
              "    border-radius: 50%;\n",
              "    cursor: pointer;\n",
              "    display: none;\n",
              "    fill: var(--fill-color);\n",
              "    height: 32px;\n",
              "    padding: 0;\n",
              "    width: 32px;\n",
              "  }\n",
              "\n",
              "  .colab-df-quickchart:hover {\n",
              "    background-color: var(--hover-bg-color);\n",
              "    box-shadow: 0 1px 2px rgba(60, 64, 67, 0.3), 0 1px 3px 1px rgba(60, 64, 67, 0.15);\n",
              "    fill: var(--button-hover-fill-color);\n",
              "  }\n",
              "\n",
              "  .colab-df-quickchart-complete:disabled,\n",
              "  .colab-df-quickchart-complete:disabled:hover {\n",
              "    background-color: var(--disabled-bg-color);\n",
              "    fill: var(--disabled-fill-color);\n",
              "    box-shadow: none;\n",
              "  }\n",
              "\n",
              "  .colab-df-spinner {\n",
              "    border: 2px solid var(--fill-color);\n",
              "    border-color: transparent;\n",
              "    border-bottom-color: var(--fill-color);\n",
              "    animation:\n",
              "      spin 1s steps(1) infinite;\n",
              "  }\n",
              "\n",
              "  @keyframes spin {\n",
              "    0% {\n",
              "      border-color: transparent;\n",
              "      border-bottom-color: var(--fill-color);\n",
              "      border-left-color: var(--fill-color);\n",
              "    }\n",
              "    20% {\n",
              "      border-color: transparent;\n",
              "      border-left-color: var(--fill-color);\n",
              "      border-top-color: var(--fill-color);\n",
              "    }\n",
              "    30% {\n",
              "      border-color: transparent;\n",
              "      border-left-color: var(--fill-color);\n",
              "      border-top-color: var(--fill-color);\n",
              "      border-right-color: var(--fill-color);\n",
              "    }\n",
              "    40% {\n",
              "      border-color: transparent;\n",
              "      border-right-color: var(--fill-color);\n",
              "      border-top-color: var(--fill-color);\n",
              "    }\n",
              "    60% {\n",
              "      border-color: transparent;\n",
              "      border-right-color: var(--fill-color);\n",
              "    }\n",
              "    80% {\n",
              "      border-color: transparent;\n",
              "      border-right-color: var(--fill-color);\n",
              "      border-bottom-color: var(--fill-color);\n",
              "    }\n",
              "    90% {\n",
              "      border-color: transparent;\n",
              "      border-bottom-color: var(--fill-color);\n",
              "    }\n",
              "  }\n",
              "</style>\n",
              "\n",
              "  <script>\n",
              "    async function quickchart(key) {\n",
              "      const quickchartButtonEl =\n",
              "        document.querySelector('#' + key + ' button');\n",
              "      quickchartButtonEl.disabled = true;  // To prevent multiple clicks.\n",
              "      quickchartButtonEl.classList.add('colab-df-spinner');\n",
              "      try {\n",
              "        const charts = await google.colab.kernel.invokeFunction(\n",
              "            'suggestCharts', [key], {});\n",
              "      } catch (error) {\n",
              "        console.error('Error during call to suggestCharts:', error);\n",
              "      }\n",
              "      quickchartButtonEl.classList.remove('colab-df-spinner');\n",
              "      quickchartButtonEl.classList.add('colab-df-quickchart-complete');\n",
              "    }\n",
              "    (() => {\n",
              "      let quickchartButtonEl =\n",
              "        document.querySelector('#df-413ec1fa-1324-47cb-b024-ee57a0332817 button');\n",
              "      quickchartButtonEl.style.display =\n",
              "        google.colab.kernel.accessAllowed ? 'block' : 'none';\n",
              "    })();\n",
              "  </script>\n",
              "</div>\n",
              "\n",
              "    </div>\n",
              "  </div>\n"
            ],
            "application/vnd.google.colaboratory.intrinsic+json": {
              "type": "dataframe",
              "summary": "{\n  \"name\": \"vehicles\",\n  \"rows\": 8,\n  \"fields\": [\n    {\n      \"column\": \"id\",\n      \"properties\": {\n        \"dtype\": \"number\",\n        \"std\": 3376147495.0259314,\n        \"min\": 426880.0,\n        \"max\": 7317101084.0,\n        \"num_unique_values\": 8,\n        \"samples\": [\n          7311486634.224333,\n          7312620821.0,\n          426880.0\n        ],\n        \"semantic_type\": \"\",\n        \"description\": \"\"\n      }\n    },\n    {\n      \"column\": \"price\",\n      \"properties\": {\n        \"dtype\": \"number\",\n        \"std\": 1320567604.070719,\n        \"min\": 0.0,\n        \"max\": 3736928711.0,\n        \"num_unique_values\": 8,\n        \"samples\": [\n          75199.0331873126,\n          13950.0,\n          426880.0\n        ],\n        \"semantic_type\": \"\",\n        \"description\": \"\"\n      }\n    },\n    {\n      \"column\": \"year\",\n      \"properties\": {\n        \"dtype\": \"number\",\n        \"std\": 149895.33930041522,\n        \"min\": 9.452119581502558,\n        \"max\": 425675.0,\n        \"num_unique_values\": 8,\n        \"samples\": [\n          2011.23519116697,\n          2013.0,\n          425675.0\n        ],\n        \"semantic_type\": \"\",\n        \"description\": \"\"\n      }\n    },\n    {\n      \"column\": \"odometer\",\n      \"properties\": {\n        \"dtype\": \"number\",\n        \"std\": 3487930.4741538693,\n        \"min\": 0.0,\n        \"max\": 10000000.0,\n        \"num_unique_values\": 8,\n        \"samples\": [\n          98043.33144290854,\n          85548.0,\n          422480.0\n        ],\n        \"semantic_type\": \"\",\n        \"description\": \"\"\n      }\n    }\n  ]\n}"
            }
          },
          "metadata": {},
          "execution_count": 7
        }
      ]
    },
    {
      "cell_type": "markdown",
      "source": [
        "**Observation** :  From the above table, we can observe that the price column has a maximum price 373,692,8711 which is an outlier similarly the odometer reading of 1 million is possible but more unlikely in real life.\n"
      ],
      "metadata": {
        "id": "c2kK0TYJfdvF"
      }
    },
    {
      "cell_type": "code",
      "source": [
        "vehicles.corr(numeric_only=True)"
      ],
      "metadata": {
        "id": "5GZQm7DchgfP",
        "outputId": "9e9af4bd-3148-42ac-df76-da9e8528b463",
        "colab": {
          "base_uri": "https://localhost:8080/",
          "height": 175
        }
      },
      "execution_count": 8,
      "outputs": [
        {
          "output_type": "execute_result",
          "data": {
            "text/plain": [
              "            id  price  year  odometer\n",
              "id        1.00  -0.00 -0.06      0.01\n",
              "price    -0.00   1.00 -0.00      0.01\n",
              "year     -0.06  -0.00  1.00     -0.16\n",
              "odometer  0.01   0.01 -0.16      1.00"
            ],
            "text/html": [
              "\n",
              "  <div id=\"df-fab18a23-57f1-49f3-8c7c-b318fa2dae5c\" class=\"colab-df-container\">\n",
              "    <div>\n",
              "<style scoped>\n",
              "    .dataframe tbody tr th:only-of-type {\n",
              "        vertical-align: middle;\n",
              "    }\n",
              "\n",
              "    .dataframe tbody tr th {\n",
              "        vertical-align: top;\n",
              "    }\n",
              "\n",
              "    .dataframe thead th {\n",
              "        text-align: right;\n",
              "    }\n",
              "</style>\n",
              "<table border=\"1\" class=\"dataframe\">\n",
              "  <thead>\n",
              "    <tr style=\"text-align: right;\">\n",
              "      <th></th>\n",
              "      <th>id</th>\n",
              "      <th>price</th>\n",
              "      <th>year</th>\n",
              "      <th>odometer</th>\n",
              "    </tr>\n",
              "  </thead>\n",
              "  <tbody>\n",
              "    <tr>\n",
              "      <th>id</th>\n",
              "      <td>1.00</td>\n",
              "      <td>-0.00</td>\n",
              "      <td>-0.06</td>\n",
              "      <td>0.01</td>\n",
              "    </tr>\n",
              "    <tr>\n",
              "      <th>price</th>\n",
              "      <td>-0.00</td>\n",
              "      <td>1.00</td>\n",
              "      <td>-0.00</td>\n",
              "      <td>0.01</td>\n",
              "    </tr>\n",
              "    <tr>\n",
              "      <th>year</th>\n",
              "      <td>-0.06</td>\n",
              "      <td>-0.00</td>\n",
              "      <td>1.00</td>\n",
              "      <td>-0.16</td>\n",
              "    </tr>\n",
              "    <tr>\n",
              "      <th>odometer</th>\n",
              "      <td>0.01</td>\n",
              "      <td>0.01</td>\n",
              "      <td>-0.16</td>\n",
              "      <td>1.00</td>\n",
              "    </tr>\n",
              "  </tbody>\n",
              "</table>\n",
              "</div>\n",
              "    <div class=\"colab-df-buttons\">\n",
              "\n",
              "  <div class=\"colab-df-container\">\n",
              "    <button class=\"colab-df-convert\" onclick=\"convertToInteractive('df-fab18a23-57f1-49f3-8c7c-b318fa2dae5c')\"\n",
              "            title=\"Convert this dataframe to an interactive table.\"\n",
              "            style=\"display:none;\">\n",
              "\n",
              "  <svg xmlns=\"http://www.w3.org/2000/svg\" height=\"24px\" viewBox=\"0 -960 960 960\">\n",
              "    <path d=\"M120-120v-720h720v720H120Zm60-500h600v-160H180v160Zm220 220h160v-160H400v160Zm0 220h160v-160H400v160ZM180-400h160v-160H180v160Zm440 0h160v-160H620v160ZM180-180h160v-160H180v160Zm440 0h160v-160H620v160Z\"/>\n",
              "  </svg>\n",
              "    </button>\n",
              "\n",
              "  <style>\n",
              "    .colab-df-container {\n",
              "      display:flex;\n",
              "      gap: 12px;\n",
              "    }\n",
              "\n",
              "    .colab-df-convert {\n",
              "      background-color: #E8F0FE;\n",
              "      border: none;\n",
              "      border-radius: 50%;\n",
              "      cursor: pointer;\n",
              "      display: none;\n",
              "      fill: #1967D2;\n",
              "      height: 32px;\n",
              "      padding: 0 0 0 0;\n",
              "      width: 32px;\n",
              "    }\n",
              "\n",
              "    .colab-df-convert:hover {\n",
              "      background-color: #E2EBFA;\n",
              "      box-shadow: 0px 1px 2px rgba(60, 64, 67, 0.3), 0px 1px 3px 1px rgba(60, 64, 67, 0.15);\n",
              "      fill: #174EA6;\n",
              "    }\n",
              "\n",
              "    .colab-df-buttons div {\n",
              "      margin-bottom: 4px;\n",
              "    }\n",
              "\n",
              "    [theme=dark] .colab-df-convert {\n",
              "      background-color: #3B4455;\n",
              "      fill: #D2E3FC;\n",
              "    }\n",
              "\n",
              "    [theme=dark] .colab-df-convert:hover {\n",
              "      background-color: #434B5C;\n",
              "      box-shadow: 0px 1px 3px 1px rgba(0, 0, 0, 0.15);\n",
              "      filter: drop-shadow(0px 1px 2px rgba(0, 0, 0, 0.3));\n",
              "      fill: #FFFFFF;\n",
              "    }\n",
              "  </style>\n",
              "\n",
              "    <script>\n",
              "      const buttonEl =\n",
              "        document.querySelector('#df-fab18a23-57f1-49f3-8c7c-b318fa2dae5c button.colab-df-convert');\n",
              "      buttonEl.style.display =\n",
              "        google.colab.kernel.accessAllowed ? 'block' : 'none';\n",
              "\n",
              "      async function convertToInteractive(key) {\n",
              "        const element = document.querySelector('#df-fab18a23-57f1-49f3-8c7c-b318fa2dae5c');\n",
              "        const dataTable =\n",
              "          await google.colab.kernel.invokeFunction('convertToInteractive',\n",
              "                                                    [key], {});\n",
              "        if (!dataTable) return;\n",
              "\n",
              "        const docLinkHtml = 'Like what you see? Visit the ' +\n",
              "          '<a target=\"_blank\" href=https://colab.research.google.com/notebooks/data_table.ipynb>data table notebook</a>'\n",
              "          + ' to learn more about interactive tables.';\n",
              "        element.innerHTML = '';\n",
              "        dataTable['output_type'] = 'display_data';\n",
              "        await google.colab.output.renderOutput(dataTable, element);\n",
              "        const docLink = document.createElement('div');\n",
              "        docLink.innerHTML = docLinkHtml;\n",
              "        element.appendChild(docLink);\n",
              "      }\n",
              "    </script>\n",
              "  </div>\n",
              "\n",
              "\n",
              "<div id=\"df-2dd06fe9-f6bd-4fab-be11-88196234f23f\">\n",
              "  <button class=\"colab-df-quickchart\" onclick=\"quickchart('df-2dd06fe9-f6bd-4fab-be11-88196234f23f')\"\n",
              "            title=\"Suggest charts\"\n",
              "            style=\"display:none;\">\n",
              "\n",
              "<svg xmlns=\"http://www.w3.org/2000/svg\" height=\"24px\"viewBox=\"0 0 24 24\"\n",
              "     width=\"24px\">\n",
              "    <g>\n",
              "        <path d=\"M19 3H5c-1.1 0-2 .9-2 2v14c0 1.1.9 2 2 2h14c1.1 0 2-.9 2-2V5c0-1.1-.9-2-2-2zM9 17H7v-7h2v7zm4 0h-2V7h2v10zm4 0h-2v-4h2v4z\"/>\n",
              "    </g>\n",
              "</svg>\n",
              "  </button>\n",
              "\n",
              "<style>\n",
              "  .colab-df-quickchart {\n",
              "      --bg-color: #E8F0FE;\n",
              "      --fill-color: #1967D2;\n",
              "      --hover-bg-color: #E2EBFA;\n",
              "      --hover-fill-color: #174EA6;\n",
              "      --disabled-fill-color: #AAA;\n",
              "      --disabled-bg-color: #DDD;\n",
              "  }\n",
              "\n",
              "  [theme=dark] .colab-df-quickchart {\n",
              "      --bg-color: #3B4455;\n",
              "      --fill-color: #D2E3FC;\n",
              "      --hover-bg-color: #434B5C;\n",
              "      --hover-fill-color: #FFFFFF;\n",
              "      --disabled-bg-color: #3B4455;\n",
              "      --disabled-fill-color: #666;\n",
              "  }\n",
              "\n",
              "  .colab-df-quickchart {\n",
              "    background-color: var(--bg-color);\n",
              "    border: none;\n",
              "    border-radius: 50%;\n",
              "    cursor: pointer;\n",
              "    display: none;\n",
              "    fill: var(--fill-color);\n",
              "    height: 32px;\n",
              "    padding: 0;\n",
              "    width: 32px;\n",
              "  }\n",
              "\n",
              "  .colab-df-quickchart:hover {\n",
              "    background-color: var(--hover-bg-color);\n",
              "    box-shadow: 0 1px 2px rgba(60, 64, 67, 0.3), 0 1px 3px 1px rgba(60, 64, 67, 0.15);\n",
              "    fill: var(--button-hover-fill-color);\n",
              "  }\n",
              "\n",
              "  .colab-df-quickchart-complete:disabled,\n",
              "  .colab-df-quickchart-complete:disabled:hover {\n",
              "    background-color: var(--disabled-bg-color);\n",
              "    fill: var(--disabled-fill-color);\n",
              "    box-shadow: none;\n",
              "  }\n",
              "\n",
              "  .colab-df-spinner {\n",
              "    border: 2px solid var(--fill-color);\n",
              "    border-color: transparent;\n",
              "    border-bottom-color: var(--fill-color);\n",
              "    animation:\n",
              "      spin 1s steps(1) infinite;\n",
              "  }\n",
              "\n",
              "  @keyframes spin {\n",
              "    0% {\n",
              "      border-color: transparent;\n",
              "      border-bottom-color: var(--fill-color);\n",
              "      border-left-color: var(--fill-color);\n",
              "    }\n",
              "    20% {\n",
              "      border-color: transparent;\n",
              "      border-left-color: var(--fill-color);\n",
              "      border-top-color: var(--fill-color);\n",
              "    }\n",
              "    30% {\n",
              "      border-color: transparent;\n",
              "      border-left-color: var(--fill-color);\n",
              "      border-top-color: var(--fill-color);\n",
              "      border-right-color: var(--fill-color);\n",
              "    }\n",
              "    40% {\n",
              "      border-color: transparent;\n",
              "      border-right-color: var(--fill-color);\n",
              "      border-top-color: var(--fill-color);\n",
              "    }\n",
              "    60% {\n",
              "      border-color: transparent;\n",
              "      border-right-color: var(--fill-color);\n",
              "    }\n",
              "    80% {\n",
              "      border-color: transparent;\n",
              "      border-right-color: var(--fill-color);\n",
              "      border-bottom-color: var(--fill-color);\n",
              "    }\n",
              "    90% {\n",
              "      border-color: transparent;\n",
              "      border-bottom-color: var(--fill-color);\n",
              "    }\n",
              "  }\n",
              "</style>\n",
              "\n",
              "  <script>\n",
              "    async function quickchart(key) {\n",
              "      const quickchartButtonEl =\n",
              "        document.querySelector('#' + key + ' button');\n",
              "      quickchartButtonEl.disabled = true;  // To prevent multiple clicks.\n",
              "      quickchartButtonEl.classList.add('colab-df-spinner');\n",
              "      try {\n",
              "        const charts = await google.colab.kernel.invokeFunction(\n",
              "            'suggestCharts', [key], {});\n",
              "      } catch (error) {\n",
              "        console.error('Error during call to suggestCharts:', error);\n",
              "      }\n",
              "      quickchartButtonEl.classList.remove('colab-df-spinner');\n",
              "      quickchartButtonEl.classList.add('colab-df-quickchart-complete');\n",
              "    }\n",
              "    (() => {\n",
              "      let quickchartButtonEl =\n",
              "        document.querySelector('#df-2dd06fe9-f6bd-4fab-be11-88196234f23f button');\n",
              "      quickchartButtonEl.style.display =\n",
              "        google.colab.kernel.accessAllowed ? 'block' : 'none';\n",
              "    })();\n",
              "  </script>\n",
              "</div>\n",
              "\n",
              "    </div>\n",
              "  </div>\n"
            ],
            "application/vnd.google.colaboratory.intrinsic+json": {
              "type": "dataframe",
              "summary": "{\n  \"name\": \"vehicles\",\n  \"rows\": 4,\n  \"fields\": [\n    {\n      \"column\": \"id\",\n      \"properties\": {\n        \"dtype\": \"number\",\n        \"std\": 0.5094129089676809,\n        \"min\": -0.05903950642857139,\n        \"max\": 1.0,\n        \"num_unique_values\": 4,\n        \"samples\": [\n          -0.002779465851200488,\n          0.010721063065225998,\n          1.0\n        ],\n        \"semantic_type\": \"\",\n        \"description\": \"\"\n      }\n    },\n    {\n      \"column\": \"price\",\n      \"properties\": {\n        \"dtype\": \"number\",\n        \"std\": 0.49965568617289424,\n        \"min\": -0.004925081893539383,\n        \"max\": 1.0,\n        \"num_unique_values\": 4,\n        \"samples\": [\n          1.0,\n          0.010032266733225884,\n          -0.002779465851200488\n        ],\n        \"semantic_type\": \"\",\n        \"description\": \"\"\n      }\n    },\n    {\n      \"column\": \"year\",\n      \"properties\": {\n        \"dtype\": \"number\",\n        \"std\": 0.540551028331972,\n        \"min\": -0.1572151067398393,\n        \"max\": 1.0,\n        \"num_unique_values\": 4,\n        \"samples\": [\n          -0.004925081893539383,\n          -0.1572151067398393,\n          -0.05903950642857139\n        ],\n        \"semantic_type\": \"\",\n        \"description\": \"\"\n      }\n    },\n    {\n      \"column\": \"odometer\",\n      \"properties\": {\n        \"dtype\": \"number\",\n        \"std\": 0.528679995109035,\n        \"min\": -0.1572151067398393,\n        \"max\": 1.0,\n        \"num_unique_values\": 4,\n        \"samples\": [\n          0.010032266733225884,\n          1.0,\n          0.010721063065225998\n        ],\n        \"semantic_type\": \"\",\n        \"description\": \"\"\n      }\n    }\n  ]\n}"
            }
          },
          "metadata": {},
          "execution_count": 8
        }
      ]
    },
    {
      "cell_type": "code",
      "source": [
        "fig, ax = plt.subplots(figsize=(15,10))\n",
        "ax = sns.heatmap(vehicles.corr(numeric_only=True), annot=True)\n",
        "ax.set_title('Vehicles Correlation Heatmap')\n",
        "plt.show()"
      ],
      "metadata": {
        "id": "7_oQJsxwkLWd",
        "outputId": "e7306a71-47fa-4392-d20f-8e9bc7797a2e",
        "colab": {
          "base_uri": "https://localhost:8080/",
          "height": 853
        }
      },
      "execution_count": 9,
      "outputs": [
        {
          "output_type": "display_data",
          "data": {
            "text/plain": [
              "<Figure size 1500x1000 with 2 Axes>"
            ],
            "image/png": "[encoded data removed]"
          },
          "metadata": {}
        }
      ]
    },
    {
      "cell_type": "markdown",
      "source": [
        "**Observation** : From the above Vehicle correlation matrix and the heat map, it is clear that the 'id' attribure does have any relationship with other attributes, and an ideal attribute to delete and it seems odd that the correlation between year and odometer is negtiave, but in real life the older the car and those many miles."
      ],
      "metadata": {
        "id": "cSnPoArWkrtZ"
      }
    },
    {
      "cell_type": "markdown",
      "source": [
        "### Time for some Plots"
      ],
      "metadata": {
        "id": "RWeIUAEWlyfa"
      }
    },
    {
      "cell_type": "code",
      "source": [
        "# draw a plot between price and year\n",
        "\n",
        "def drawscatterplot(data,x,y):\n",
        "  fig, ax = plt.subplots(figsize=(10,8))\n",
        "  fig = sns.scatterplot(data=data, x=x, y=y)\n",
        "  fig.set_title('Scatter plot for ' + str(x) +' vs ' + str(y))\n",
        "  fig.set_xlabel(str(x))\n",
        "  fig.set_ylabel(str(y))\n",
        "  plt.show()\n",
        "\n",
        "drawscatterplot(vehicles,'year','price')"
      ],
      "metadata": {
        "id": "juO102xMlrW6",
        "outputId": "8bb55b47-e58e-49e1-ce51-581e5cef6896",
        "colab": {
          "base_uri": "https://localhost:8080/",
          "height": 718
        }
      },
      "execution_count": 10,
      "outputs": [
        {
          "output_type": "display_data",
          "data": {
            "text/plain": [
              "<Figure size 1000x800 with 1 Axes>"
            ],
            "image/png": "[encoded data removed]"
          },
          "metadata": {}
        }
      ]
    },
    {
      "cell_type": "code",
      "source": [
        "def drawhistplot(data,x,palette):\n",
        "  fig, ax = plt.subplots(figsize=(10,8))\n",
        "  fig = sns.histplot(data=data, x=x, palette=palette)\n",
        "  fig.set_title('Histogram for ' + str(x))"
      ],
      "metadata": {
        "id": "3aTTXBoWyP5M"
      },
      "execution_count": 11,
      "outputs": []
    },
    {
      "cell_type": "code",
      "source": [
        "# draw a plot between price and year\n",
        "drawscatterplot(vehicles,'odometer','price')"
      ],
      "metadata": {
        "id": "GpvPbf5Ylre4",
        "outputId": "360a67a0-80cd-4aab-f259-f294907cb276",
        "colab": {
          "base_uri": "https://localhost:8080/",
          "height": 718
        }
      },
      "execution_count": 12,
      "outputs": [
        {
          "output_type": "display_data",
          "data": {
            "text/plain": [
              "<Figure size 1000x800 with 1 Axes>"
            ],
            "image/png": "[encoded data removed]"
          },
          "metadata": {}
        }
      ]
    },
    {
      "cell_type": "markdown",
      "source": [
        "**Observations**: From the above two plots, most of the prices are 0.0 , this could be an issue with NaN values in the price attribute, we will clear this in the data preparation section to re-draw these plots"
      ],
      "metadata": {
        "id": "7jBziXiVnE1s"
      }
    },
    {
      "cell_type": "code",
      "source": [
        "# draw a plot between condition and year\n",
        "fig, ax = plt.subplots(figsize=(10,8))\n",
        "fig = sns.countplot(data=vehicles, y='condition', order=vehicles['condition'].value_counts().index, palette='bright', hue='condition',legend=False)\n",
        "fig.set_title('Scatter Plot for Price vs Condition')\n",
        "fig.set_xlabel('Count')\n",
        "fig.set_ylabel('Condition')\n",
        "for container in fig.containers:\n",
        "    fig.bar_label(container)\n",
        "plt.show()"
      ],
      "metadata": {
        "id": "LggY__Crlrmm",
        "outputId": "f9d094da-b36f-4803-af3c-a4fae765b4bb",
        "colab": {
          "base_uri": "https://localhost:8080/",
          "height": 718
        }
      },
      "execution_count": 13,
      "outputs": [
        {
          "output_type": "display_data",
          "data": {
            "text/plain": [
              "<Figure size 1000x800 with 1 Axes>"
            ],
            "image/png": "[encoded data removed]"
          },
          "metadata": {}
        }
      ]
    },
    {
      "cell_type": "markdown",
      "source": [
        "**Observation**: The provided data has more cars with good condition"
      ],
      "metadata": {
        "id": "drpseyKTpNsI"
      }
    },
    {
      "cell_type": "code",
      "source": [
        "# generate bar plot between condition, price\n",
        "fig, ax = plt.subplots(figsize=(10,8))\n",
        "fig = sns.barplot(data=vehicles, x='condition', y='price', palette='bright', hue='condition',legend=False)\n",
        "fig.set_title('Bar Plot for Price vs Condition')\n",
        "fig"
      ],
      "metadata": {
        "id": "D6artUBblrpW",
        "outputId": "3863f17b-7b39-404c-e3d5-5ca3bdb6958a",
        "colab": {
          "base_uri": "https://localhost:8080/",
          "height": 735
        }
      },
      "execution_count": 14,
      "outputs": [
        {
          "output_type": "execute_result",
          "data": {
            "text/plain": [
              "<Axes: title={'center': 'Bar Plot for Price vs Condition'}, xlabel='condition', ylabel='price'>"
            ]
          },
          "metadata": {},
          "execution_count": 14
        },
        {
          "output_type": "display_data",
          "data": {
            "text/plain": [
              "<Figure size 1000x800 with 1 Axes>"
            ],
            "image/png": "[encoded data removed]"
          },
          "metadata": {}
        }
      ]
    },
    {
      "cell_type": "markdown",
      "metadata": {
        "id": "5GQsJbvxUhLp"
      },
      "source": [
        "### Data Preparation\n",
        "\n",
        "After our initial exploration and fine-tuning of the business understanding, it is time to construct our final dataset prior to modeling.  Here, we want to make sure to handle any integrity issues and cleaning, the engineering of new features, any transformations that we believe should happen (scaling, logarithms, normalization, etc.), and general preparation for modeling with `sklearn`."
      ]
    },
    {
      "cell_type": "code",
      "source": [
        "# drop unique id & VIN columns\n",
        "vehicles.drop(columns=['id','VIN'], inplace=True)\n",
        "\n",
        "# get integer and category columns\n",
        "cat_cols = vehicles.select_dtypes(include=['object']).columns\n",
        "num_cols = vehicles.select_dtypes(include=['int64', 'float64']).columns"
      ],
      "metadata": {
        "id": "B8bTywFVuaVj"
      },
      "execution_count": 15,
      "outputs": []
    },
    {
      "cell_type": "code",
      "source": [
        "# check how many null values exists in integer columns before imputing\n",
        "vehicles.isnull().sum()[num_cols]"
      ],
      "metadata": {
        "colab": {
          "base_uri": "https://localhost:8080/",
          "height": 178
        },
        "id": "HsFO3Nh7vsuH",
        "outputId": "8af526e8-a6af-45d0-b8de-36ec560417f3"
      },
      "execution_count": 16,
      "outputs": [
        {
          "output_type": "execute_result",
          "data": {
            "text/plain": [
              "price          0\n",
              "year        1205\n",
              "odometer    4400\n",
              "dtype: int64"
            ],
            "text/html": [
              "<div>\n",
              "<style scoped>\n",
              "    .dataframe tbody tr th:only-of-type {\n",
              "        vertical-align: middle;\n",
              "    }\n",
              "\n",
              "    .dataframe tbody tr th {\n",
              "        vertical-align: top;\n",
              "    }\n",
              "\n",
              "    .dataframe thead th {\n",
              "        text-align: right;\n",
              "    }\n",
              "</style>\n",
              "<table border=\"1\" class=\"dataframe\">\n",
              "  <thead>\n",
              "    <tr style=\"text-align: right;\">\n",
              "      <th></th>\n",
              "      <th>0</th>\n",
              "    </tr>\n",
              "  </thead>\n",
              "  <tbody>\n",
              "    <tr>\n",
              "      <th>price</th>\n",
              "      <td>0</td>\n",
              "    </tr>\n",
              "    <tr>\n",
              "      <th>year</th>\n",
              "      <td>1205</td>\n",
              "    </tr>\n",
              "    <tr>\n",
              "      <th>odometer</th>\n",
              "      <td>4400</td>\n",
              "    </tr>\n",
              "  </tbody>\n",
              "</table>\n",
              "</div><br><label><b>dtype:</b> int64</label>"
            ]
          },
          "metadata": {},
          "execution_count": 16
        }
      ]
    },
    {
      "cell_type": "code",
      "source": [
        "# use interative imputer with KNN to replace empty / nAN values in integer columns\n",
        "vehciles_num = vehicles[num_cols]\n",
        "imputer_num = IterativeImputer(KNeighborsRegressor(n_neighbors=15))\n",
        "impute_data = imputer_num.fit_transform(vehciles_num)\n",
        "vehicles[num_cols] = impute_data"
      ],
      "metadata": {
        "id": "8Yc1lB2AuaYz"
      },
      "execution_count": 17,
      "outputs": []
    },
    {
      "cell_type": "code",
      "source": [
        "# check how many null values exists in integer after before imputing\n",
        "vehicles.isnull().sum()[num_cols]"
      ],
      "metadata": {
        "colab": {
          "base_uri": "https://localhost:8080/",
          "height": 178
        },
        "id": "ZZmdpSMq14WC",
        "outputId": "97d392c5-4bb9-472c-fe95-5a54305b5b57"
      },
      "execution_count": 18,
      "outputs": [
        {
          "output_type": "execute_result",
          "data": {
            "text/plain": [
              "price       0\n",
              "year        0\n",
              "odometer    0\n",
              "dtype: int64"
            ],
            "text/html": [
              "<div>\n",
              "<style scoped>\n",
              "    .dataframe tbody tr th:only-of-type {\n",
              "        vertical-align: middle;\n",
              "    }\n",
              "\n",
              "    .dataframe tbody tr th {\n",
              "        vertical-align: top;\n",
              "    }\n",
              "\n",
              "    .dataframe thead th {\n",
              "        text-align: right;\n",
              "    }\n",
              "</style>\n",
              "<table border=\"1\" class=\"dataframe\">\n",
              "  <thead>\n",
              "    <tr style=\"text-align: right;\">\n",
              "      <th></th>\n",
              "      <th>0</th>\n",
              "    </tr>\n",
              "  </thead>\n",
              "  <tbody>\n",
              "    <tr>\n",
              "      <th>price</th>\n",
              "      <td>0</td>\n",
              "    </tr>\n",
              "    <tr>\n",
              "      <th>year</th>\n",
              "      <td>0</td>\n",
              "    </tr>\n",
              "    <tr>\n",
              "      <th>odometer</th>\n",
              "      <td>0</td>\n",
              "    </tr>\n",
              "  </tbody>\n",
              "</table>\n",
              "</div><br><label><b>dtype:</b> int64</label>"
            ]
          },
          "metadata": {},
          "execution_count": 18
        }
      ]
    },
    {
      "cell_type": "code",
      "source": [
        "# check how many null values exists in category columns before imputing\n",
        "vehicles.isnull().sum()[cat_cols]"
      ],
      "metadata": {
        "colab": {
          "base_uri": "https://localhost:8080/",
          "height": 491
        },
        "id": "iqOKiq-9wowU",
        "outputId": "98d6cfb7-db4b-4d36-9fe6-df8694ded5a0"
      },
      "execution_count": 19,
      "outputs": [
        {
          "output_type": "execute_result",
          "data": {
            "text/plain": [
              "region               0\n",
              "manufacturer     17646\n",
              "model             5277\n",
              "condition       174104\n",
              "cylinders       177678\n",
              "fuel              3013\n",
              "title_status      8242\n",
              "transmission      2556\n",
              "drive           130567\n",
              "size            306361\n",
              "type             92858\n",
              "paint_color     130203\n",
              "state                0\n",
              "dtype: int64"
            ],
            "text/html": [
              "<div>\n",
              "<style scoped>\n",
              "    .dataframe tbody tr th:only-of-type {\n",
              "        vertical-align: middle;\n",
              "    }\n",
              "\n",
              "    .dataframe tbody tr th {\n",
              "        vertical-align: top;\n",
              "    }\n",
              "\n",
              "    .dataframe thead th {\n",
              "        text-align: right;\n",
              "    }\n",
              "</style>\n",
              "<table border=\"1\" class=\"dataframe\">\n",
              "  <thead>\n",
              "    <tr style=\"text-align: right;\">\n",
              "      <th></th>\n",
              "      <th>0</th>\n",
              "    </tr>\n",
              "  </thead>\n",
              "  <tbody>\n",
              "    <tr>\n",
              "      <th>region</th>\n",
              "      <td>0</td>\n",
              "    </tr>\n",
              "    <tr>\n",
              "      <th>manufacturer</th>\n",
              "      <td>17646</td>\n",
              "    </tr>\n",
              "    <tr>\n",
              "      <th>model</th>\n",
              "      <td>5277</td>\n",
              "    </tr>\n",
              "    <tr>\n",
              "      <th>condition</th>\n",
              "      <td>174104</td>\n",
              "    </tr>\n",
              "    <tr>\n",
              "      <th>cylinders</th>\n",
              "      <td>177678</td>\n",
              "    </tr>\n",
              "    <tr>\n",
              "      <th>fuel</th>\n",
              "      <td>3013</td>\n",
              "    </tr>\n",
              "    <tr>\n",
              "      <th>title_status</th>\n",
              "      <td>8242</td>\n",
              "    </tr>\n",
              "    <tr>\n",
              "      <th>transmission</th>\n",
              "      <td>2556</td>\n",
              "    </tr>\n",
              "    <tr>\n",
              "      <th>drive</th>\n",
              "      <td>130567</td>\n",
              "    </tr>\n",
              "    <tr>\n",
              "      <th>size</th>\n",
              "      <td>306361</td>\n",
              "    </tr>\n",
              "    <tr>\n",
              "      <th>type</th>\n",
              "      <td>92858</td>\n",
              "    </tr>\n",
              "    <tr>\n",
              "      <th>paint_color</th>\n",
              "      <td>130203</td>\n",
              "    </tr>\n",
              "    <tr>\n",
              "      <th>state</th>\n",
              "      <td>0</td>\n",
              "    </tr>\n",
              "  </tbody>\n",
              "</table>\n",
              "</div><br><label><b>dtype:</b> int64</label>"
            ]
          },
          "metadata": {},
          "execution_count": 19
        }
      ]
    },
    {
      "cell_type": "code",
      "source": [
        "# use Simple imputer with  replace empty / nAN values in category columns\n",
        "vehicles_cat = vehicles[cat_cols]\n",
        "imputer_cat = SimpleImputer(strategy='most_frequent', missing_values=np.nan)\n",
        "impute_data = imputer_cat.fit_transform(vehicles_cat)\n",
        "vehicles[cat_cols] = impute_data"
      ],
      "metadata": {
        "id": "PiNd3L7XwVmO"
      },
      "execution_count": 20,
      "outputs": []
    },
    {
      "cell_type": "code",
      "source": [
        "# check how many null values exists in category columns after imputing\n",
        "vehicles.isnull().sum()[cat_cols]"
      ],
      "metadata": {
        "colab": {
          "base_uri": "https://localhost:8080/",
          "height": 491
        },
        "id": "URcSfjcF2EQn",
        "outputId": "bb40bca4-20da-4f0a-ea29-e25078958d11"
      },
      "execution_count": 21,
      "outputs": [
        {
          "output_type": "execute_result",
          "data": {
            "text/plain": [
              "region          0\n",
              "manufacturer    0\n",
              "model           0\n",
              "condition       0\n",
              "cylinders       0\n",
              "fuel            0\n",
              "title_status    0\n",
              "transmission    0\n",
              "drive           0\n",
              "size            0\n",
              "type            0\n",
              "paint_color     0\n",
              "state           0\n",
              "dtype: int64"
            ],
            "text/html": [
              "<div>\n",
              "<style scoped>\n",
              "    .dataframe tbody tr th:only-of-type {\n",
              "        vertical-align: middle;\n",
              "    }\n",
              "\n",
              "    .dataframe tbody tr th {\n",
              "        vertical-align: top;\n",
              "    }\n",
              "\n",
              "    .dataframe thead th {\n",
              "        text-align: right;\n",
              "    }\n",
              "</style>\n",
              "<table border=\"1\" class=\"dataframe\">\n",
              "  <thead>\n",
              "    <tr style=\"text-align: right;\">\n",
              "      <th></th>\n",
              "      <th>0</th>\n",
              "    </tr>\n",
              "  </thead>\n",
              "  <tbody>\n",
              "    <tr>\n",
              "      <th>region</th>\n",
              "      <td>0</td>\n",
              "    </tr>\n",
              "    <tr>\n",
              "      <th>manufacturer</th>\n",
              "      <td>0</td>\n",
              "    </tr>\n",
              "    <tr>\n",
              "      <th>model</th>\n",
              "      <td>0</td>\n",
              "    </tr>\n",
              "    <tr>\n",
              "      <th>condition</th>\n",
              "      <td>0</td>\n",
              "    </tr>\n",
              "    <tr>\n",
              "      <th>cylinders</th>\n",
              "      <td>0</td>\n",
              "    </tr>\n",
              "    <tr>\n",
              "      <th>fuel</th>\n",
              "      <td>0</td>\n",
              "    </tr>\n",
              "    <tr>\n",
              "      <th>title_status</th>\n",
              "      <td>0</td>\n",
              "    </tr>\n",
              "    <tr>\n",
              "      <th>transmission</th>\n",
              "      <td>0</td>\n",
              "    </tr>\n",
              "    <tr>\n",
              "      <th>drive</th>\n",
              "      <td>0</td>\n",
              "    </tr>\n",
              "    <tr>\n",
              "      <th>size</th>\n",
              "      <td>0</td>\n",
              "    </tr>\n",
              "    <tr>\n",
              "      <th>type</th>\n",
              "      <td>0</td>\n",
              "    </tr>\n",
              "    <tr>\n",
              "      <th>paint_color</th>\n",
              "      <td>0</td>\n",
              "    </tr>\n",
              "    <tr>\n",
              "      <th>state</th>\n",
              "      <td>0</td>\n",
              "    </tr>\n",
              "  </tbody>\n",
              "</table>\n",
              "</div><br><label><b>dtype:</b> int64</label>"
            ]
          },
          "metadata": {},
          "execution_count": 21
        }
      ]
    },
    {
      "cell_type": "code",
      "source": [
        "vehicles.sample(5)"
      ],
      "metadata": {
        "colab": {
          "base_uri": "https://localhost:8080/",
          "height": 313
        },
        "id": "J6fOrCkku4NM",
        "outputId": "52c6d9f8-62e6-45ed-ba75-89cf25a79de7"
      },
      "execution_count": 22,
      "outputs": [
        {
          "output_type": "execute_result",
          "data": {
            "text/plain": [
              "                      region    price    year manufacturer           model  \\\n",
              "8268         kenai peninsula  5500.00 2004.00    chevrolet  silverado 1500   \n",
              "347347  greenville / upstate 12980.00 2008.00        lexus          rx 350   \n",
              "2396        gadsden-anniston 22500.00 1936.00         ford            Nash   \n",
              "397809              richmond 10000.00 2007.00        lexus          rx 350   \n",
              "379077    mcallen / edinburg 11990.00 2014.00    chevrolet  silverado 1500   \n",
              "\n",
              "       condition    cylinders fuel  odometer title_status transmission drive  \\\n",
              "8268        good  6 cylinders  gas 156000.00        clean    automatic   4wd   \n",
              "347347      good  6 cylinders  gas 103176.00        clean    automatic   fwd   \n",
              "2396        good  6 cylinders  gas      1.00        clean    automatic   4wd   \n",
              "397809      good  6 cylinders  gas 135147.00        clean    automatic   fwd   \n",
              "379077      good  6 cylinders  gas 171750.00        clean    automatic   rwd   \n",
              "\n",
              "             size    type paint_color state  \n",
              "8268    full-size   sedan       white    ak  \n",
              "347347  full-size     SUV       black    sc  \n",
              "2396    full-size   sedan       white    al  \n",
              "397809  full-size     SUV        blue    va  \n",
              "379077  full-size  pickup       white    tx  "
            ],
            "text/html": [
              "\n",
              "  <div id=\"df-511da711-5644-4c7b-829e-fccc81536a41\" class=\"colab-df-container\">\n",
              "    <div>\n",
              "<style scoped>\n",
              "    .dataframe tbody tr th:only-of-type {\n",
              "        vertical-align: middle;\n",
              "    }\n",
              "\n",
              "    .dataframe tbody tr th {\n",
              "        vertical-align: top;\n",
              "    }\n",
              "\n",
              "    .dataframe thead th {\n",
              "        text-align: right;\n",
              "    }\n",
              "</style>\n",
              "<table border=\"1\" class=\"dataframe\">\n",
              "  <thead>\n",
              "    <tr style=\"text-align: right;\">\n",
              "      <th></th>\n",
              "      <th>region</th>\n",
              "      <th>price</th>\n",
              "      <th>year</th>\n",
              "      <th>manufacturer</th>\n",
              "      <th>model</th>\n",
              "      <th>condition</th>\n",
              "      <th>cylinders</th>\n",
              "      <th>fuel</th>\n",
              "      <th>odometer</th>\n",
              "      <th>title_status</th>\n",
              "      <th>transmission</th>\n",
              "      <th>drive</th>\n",
              "      <th>size</th>\n",
              "      <th>type</th>\n",
              "      <th>paint_color</th>\n",
              "      <th>state</th>\n",
              "    </tr>\n",
              "  </thead>\n",
              "  <tbody>\n",
              "    <tr>\n",
              "      <th>8268</th>\n",
              "      <td>kenai peninsula</td>\n",
              "      <td>5500.00</td>\n",
              "      <td>2004.00</td>\n",
              "      <td>chevrolet</td>\n",
              "      <td>silverado 1500</td>\n",
              "      <td>good</td>\n",
              "      <td>6 cylinders</td>\n",
              "      <td>gas</td>\n",
              "      <td>156000.00</td>\n",
              "      <td>clean</td>\n",
              "      <td>automatic</td>\n",
              "      <td>4wd</td>\n",
              "      <td>full-size</td>\n",
              "      <td>sedan</td>\n",
              "      <td>white</td>\n",
              "      <td>ak</td>\n",
              "    </tr>\n",
              "    <tr>\n",
              "      <th>347347</th>\n",
              "      <td>greenville / upstate</td>\n",
              "      <td>12980.00</td>\n",
              "      <td>2008.00</td>\n",
              "      <td>lexus</td>\n",
              "      <td>rx 350</td>\n",
              "      <td>good</td>\n",
              "      <td>6 cylinders</td>\n",
              "      <td>gas</td>\n",
              "      <td>103176.00</td>\n",
              "      <td>clean</td>\n",
              "      <td>automatic</td>\n",
              "      <td>fwd</td>\n",
              "      <td>full-size</td>\n",
              "      <td>SUV</td>\n",
              "      <td>black</td>\n",
              "      <td>sc</td>\n",
              "    </tr>\n",
              "    <tr>\n",
              "      <th>2396</th>\n",
              "      <td>gadsden-anniston</td>\n",
              "      <td>22500.00</td>\n",
              "      <td>1936.00</td>\n",
              "      <td>ford</td>\n",
              "      <td>Nash</td>\n",
              "      <td>good</td>\n",
              "      <td>6 cylinders</td>\n",
              "      <td>gas</td>\n",
              "      <td>1.00</td>\n",
              "      <td>clean</td>\n",
              "      <td>automatic</td>\n",
              "      <td>4wd</td>\n",
              "      <td>full-size</td>\n",
              "      <td>sedan</td>\n",
              "      <td>white</td>\n",
              "      <td>al</td>\n",
              "    </tr>\n",
              "    <tr>\n",
              "      <th>397809</th>\n",
              "      <td>richmond</td>\n",
              "      <td>10000.00</td>\n",
              "      <td>2007.00</td>\n",
              "      <td>lexus</td>\n",
              "      <td>rx 350</td>\n",
              "      <td>good</td>\n",
              "      <td>6 cylinders</td>\n",
              "      <td>gas</td>\n",
              "      <td>135147.00</td>\n",
              "      <td>clean</td>\n",
              "      <td>automatic</td>\n",
              "      <td>fwd</td>\n",
              "      <td>full-size</td>\n",
              "      <td>SUV</td>\n",
              "      <td>blue</td>\n",
              "      <td>va</td>\n",
              "    </tr>\n",
              "    <tr>\n",
              "      <th>379077</th>\n",
              "      <td>mcallen / edinburg</td>\n",
              "      <td>11990.00</td>\n",
              "      <td>2014.00</td>\n",
              "      <td>chevrolet</td>\n",
              "      <td>silverado 1500</td>\n",
              "      <td>good</td>\n",
              "      <td>6 cylinders</td>\n",
              "      <td>gas</td>\n",
              "      <td>171750.00</td>\n",
              "      <td>clean</td>\n",
              "      <td>automatic</td>\n",
              "      <td>rwd</td>\n",
              "      <td>full-size</td>\n",
              "      <td>pickup</td>\n",
              "      <td>white</td>\n",
              "      <td>tx</td>\n",
              "    </tr>\n",
              "  </tbody>\n",
              "</table>\n",
              "</div>\n",
              "    <div class=\"colab-df-buttons\">\n",
              "\n",
              "  <div class=\"colab-df-container\">\n",
              "    <button class=\"colab-df-convert\" onclick=\"convertToInteractive('df-511da711-5644-4c7b-829e-fccc81536a41')\"\n",
              "            title=\"Convert this dataframe to an interactive table.\"\n",
              "            style=\"display:none;\">\n",
              "\n",
              "  <svg xmlns=\"http://www.w3.org/2000/svg\" height=\"24px\" viewBox=\"0 -960 960 960\">\n",
              "    <path d=\"M120-120v-720h720v720H120Zm60-500h600v-160H180v160Zm220 220h160v-160H400v160Zm0 220h160v-160H400v160ZM180-400h160v-160H180v160Zm440 0h160v-160H620v160ZM180-180h160v-160H180v160Zm440 0h160v-160H620v160Z\"/>\n",
              "  </svg>\n",
              "    </button>\n",
              "\n",
              "  <style>\n",
              "    .colab-df-container {\n",
              "      display:flex;\n",
              "      gap: 12px;\n",
              "    }\n",
              "\n",
              "    .colab-df-convert {\n",
              "      background-color: #E8F0FE;\n",
              "      border: none;\n",
              "      border-radius: 50%;\n",
              "      cursor: pointer;\n",
              "      display: none;\n",
              "      fill: #1967D2;\n",
              "      height: 32px;\n",
              "      padding: 0 0 0 0;\n",
              "      width: 32px;\n",
              "    }\n",
              "\n",
              "    .colab-df-convert:hover {\n",
              "      background-color: #E2EBFA;\n",
              "      box-shadow: 0px 1px 2px rgba(60, 64, 67, 0.3), 0px 1px 3px 1px rgba(60, 64, 67, 0.15);\n",
              "      fill: #174EA6;\n",
              "    }\n",
              "\n",
              "    .colab-df-buttons div {\n",
              "      margin-bottom: 4px;\n",
              "    }\n",
              "\n",
              "    [theme=dark] .colab-df-convert {\n",
              "      background-color: #3B4455;\n",
              "      fill: #D2E3FC;\n",
              "    }\n",
              "\n",
              "    [theme=dark] .colab-df-convert:hover {\n",
              "      background-color: #434B5C;\n",
              "      box-shadow: 0px 1px 3px 1px rgba(0, 0, 0, 0.15);\n",
              "      filter: drop-shadow(0px 1px 2px rgba(0, 0, 0, 0.3));\n",
              "      fill: #FFFFFF;\n",
              "    }\n",
              "  </style>\n",
              "\n",
              "    <script>\n",
              "      const buttonEl =\n",
              "        document.querySelector('#df-511da711-5644-4c7b-829e-fccc81536a41 button.colab-df-convert');\n",
              "      buttonEl.style.display =\n",
              "        google.colab.kernel.accessAllowed ? 'block' : 'none';\n",
              "\n",
              "      async function convertToInteractive(key) {\n",
              "        const element = document.querySelector('#df-511da711-5644-4c7b-829e-fccc81536a41');\n",
              "        const dataTable =\n",
              "          await google.colab.kernel.invokeFunction('convertToInteractive',\n",
              "                                                    [key], {});\n",
              "        if (!dataTable) return;\n",
              "\n",
              "        const docLinkHtml = 'Like what you see? Visit the ' +\n",
              "          '<a target=\"_blank\" href=https://colab.research.google.com/notebooks/data_table.ipynb>data table notebook</a>'\n",
              "          + ' to learn more about interactive tables.';\n",
              "        element.innerHTML = '';\n",
              "        dataTable['output_type'] = 'display_data';\n",
              "        await google.colab.output.renderOutput(dataTable, element);\n",
              "        const docLink = document.createElement('div');\n",
              "        docLink.innerHTML = docLinkHtml;\n",
              "        element.appendChild(docLink);\n",
              "      }\n",
              "    </script>\n",
              "  </div>\n",
              "\n",
              "\n",
              "<div id=\"df-ad296b81-e3d0-442f-8427-3a2737f8ad44\">\n",
              "  <button class=\"colab-df-quickchart\" onclick=\"quickchart('df-ad296b81-e3d0-442f-8427-3a2737f8ad44')\"\n",
              "            title=\"Suggest charts\"\n",
              "            style=\"display:none;\">\n",
              "\n",
              "<svg xmlns=\"http://www.w3.org/2000/svg\" height=\"24px\"viewBox=\"0 0 24 24\"\n",
              "     width=\"24px\">\n",
              "    <g>\n",
              "        <path d=\"M19 3H5c-1.1 0-2 .9-2 2v14c0 1.1.9 2 2 2h14c1.1 0 2-.9 2-2V5c0-1.1-.9-2-2-2zM9 17H7v-7h2v7zm4 0h-2V7h2v10zm4 0h-2v-4h2v4z\"/>\n",
              "    </g>\n",
              "</svg>\n",
              "  </button>\n",
              "\n",
              "<style>\n",
              "  .colab-df-quickchart {\n",
              "      --bg-color: #E8F0FE;\n",
              "      --fill-color: #1967D2;\n",
              "      --hover-bg-color: #E2EBFA;\n",
              "      --hover-fill-color: #174EA6;\n",
              "      --disabled-fill-color: #AAA;\n",
              "      --disabled-bg-color: #DDD;\n",
              "  }\n",
              "\n",
              "  [theme=dark] .colab-df-quickchart {\n",
              "      --bg-color: #3B4455;\n",
              "      --fill-color: #D2E3FC;\n",
              "      --hover-bg-color: #434B5C;\n",
              "      --hover-fill-color: #FFFFFF;\n",
              "      --disabled-bg-color: #3B4455;\n",
              "      --disabled-fill-color: #666;\n",
              "  }\n",
              "\n",
              "  .colab-df-quickchart {\n",
              "    background-color: var(--bg-color);\n",
              "    border: none;\n",
              "    border-radius: 50%;\n",
              "    cursor: pointer;\n",
              "    display: none;\n",
              "    fill: var(--fill-color);\n",
              "    height: 32px;\n",
              "    padding: 0;\n",
              "    width: 32px;\n",
              "  }\n",
              "\n",
              "  .colab-df-quickchart:hover {\n",
              "    background-color: var(--hover-bg-color);\n",
              "    box-shadow: 0 1px 2px rgba(60, 64, 67, 0.3), 0 1px 3px 1px rgba(60, 64, 67, 0.15);\n",
              "    fill: var(--button-hover-fill-color);\n",
              "  }\n",
              "\n",
              "  .colab-df-quickchart-complete:disabled,\n",
              "  .colab-df-quickchart-complete:disabled:hover {\n",
              "    background-color: var(--disabled-bg-color);\n",
              "    fill: var(--disabled-fill-color);\n",
              "    box-shadow: none;\n",
              "  }\n",
              "\n",
              "  .colab-df-spinner {\n",
              "    border: 2px solid var(--fill-color);\n",
              "    border-color: transparent;\n",
              "    border-bottom-color: var(--fill-color);\n",
              "    animation:\n",
              "      spin 1s steps(1) infinite;\n",
              "  }\n",
              "\n",
              "  @keyframes spin {\n",
              "    0% {\n",
              "      border-color: transparent;\n",
              "      border-bottom-color: var(--fill-color);\n",
              "      border-left-color: var(--fill-color);\n",
              "    }\n",
              "    20% {\n",
              "      border-color: transparent;\n",
              "      border-left-color: var(--fill-color);\n",
              "      border-top-color: var(--fill-color);\n",
              "    }\n",
              "    30% {\n",
              "      border-color: transparent;\n",
              "      border-left-color: var(--fill-color);\n",
              "      border-top-color: var(--fill-color);\n",
              "      border-right-color: var(--fill-color);\n",
              "    }\n",
              "    40% {\n",
              "      border-color: transparent;\n",
              "      border-right-color: var(--fill-color);\n",
              "      border-top-color: var(--fill-color);\n",
              "    }\n",
              "    60% {\n",
              "      border-color: transparent;\n",
              "      border-right-color: var(--fill-color);\n",
              "    }\n",
              "    80% {\n",
              "      border-color: transparent;\n",
              "      border-right-color: var(--fill-color);\n",
              "      border-bottom-color: var(--fill-color);\n",
              "    }\n",
              "    90% {\n",
              "      border-color: transparent;\n",
              "      border-bottom-color: var(--fill-color);\n",
              "    }\n",
              "  }\n",
              "</style>\n",
              "\n",
              "  <script>\n",
              "    async function quickchart(key) {\n",
              "      const quickchartButtonEl =\n",
              "        document.querySelector('#' + key + ' button');\n",
              "      quickchartButtonEl.disabled = true;  // To prevent multiple clicks.\n",
              "      quickchartButtonEl.classList.add('colab-df-spinner');\n",
              "      try {\n",
              "        const charts = await google.colab.kernel.invokeFunction(\n",
              "            'suggestCharts', [key], {});\n",
              "      } catch (error) {\n",
              "        console.error('Error during call to suggestCharts:', error);\n",
              "      }\n",
              "      quickchartButtonEl.classList.remove('colab-df-spinner');\n",
              "      quickchartButtonEl.classList.add('colab-df-quickchart-complete');\n",
              "    }\n",
              "    (() => {\n",
              "      let quickchartButtonEl =\n",
              "        document.querySelector('#df-ad296b81-e3d0-442f-8427-3a2737f8ad44 button');\n",
              "      quickchartButtonEl.style.display =\n",
              "        google.colab.kernel.accessAllowed ? 'block' : 'none';\n",
              "    })();\n",
              "  </script>\n",
              "</div>\n",
              "\n",
              "    </div>\n",
              "  </div>\n"
            ],
            "application/vnd.google.colaboratory.intrinsic+json": {
              "type": "dataframe",
              "summary": "{\n  \"name\": \"vehicles\",\n  \"rows\": 5,\n  \"fields\": [\n    {\n      \"column\": \"region\",\n      \"properties\": {\n        \"dtype\": \"string\",\n        \"num_unique_values\": 5,\n        \"samples\": [\n          \"greenville / upstate\",\n          \"mcallen / edinburg\",\n          \"gadsden-anniston\"\n        ],\n        \"semantic_type\": \"\",\n        \"description\": \"\"\n      }\n    },\n    {\n      \"column\": \"price\",\n      \"properties\": {\n        \"dtype\": \"number\",\n        \"std\": 6238.916572610985,\n        \"min\": 5500.0,\n        \"max\": 22500.0,\n        \"num_unique_values\": 5,\n        \"samples\": [\n          12980.0,\n          11990.0,\n          22500.0\n        ],\n        \"semantic_type\": \"\",\n        \"description\": \"\"\n      }\n    },\n    {\n      \"column\": \"year\",\n      \"properties\": {\n        \"dtype\": \"number\",\n        \"std\": 32.51461209979292,\n        \"min\": 1936.0,\n        \"max\": 2014.0,\n        \"num_unique_values\": 5,\n        \"samples\": [\n          2008.0,\n          2014.0,\n          1936.0\n        ],\n        \"semantic_type\": \"\",\n        \"description\": \"\"\n      }\n    },\n    {\n      \"column\": \"manufacturer\",\n      \"properties\": {\n        \"dtype\": \"string\",\n        \"num_unique_values\": 3,\n        \"samples\": [\n          \"chevrolet\",\n          \"lexus\",\n          \"ford\"\n        ],\n        \"semantic_type\": \"\",\n        \"description\": \"\"\n      }\n    },\n    {\n      \"column\": \"model\",\n      \"properties\": {\n        \"dtype\": \"string\",\n        \"num_unique_values\": 3,\n        \"samples\": [\n          \"silverado 1500\",\n          \"rx 350\",\n          \"Nash\"\n        ],\n        \"semantic_type\": \"\",\n        \"description\": \"\"\n      }\n    },\n    {\n      \"column\": \"condition\",\n      \"properties\": {\n        \"dtype\": \"category\",\n        \"num_unique_values\": 1,\n        \"samples\": [\n          \"good\"\n        ],\n        \"semantic_type\": \"\",\n        \"description\": \"\"\n      }\n    },\n    {\n      \"column\": \"cylinders\",\n      \"properties\": {\n        \"dtype\": \"category\",\n        \"num_unique_values\": 1,\n        \"samples\": [\n          \"6 cylinders\"\n        ],\n        \"semantic_type\": \"\",\n        \"description\": \"\"\n      }\n    },\n    {\n      \"column\": \"fuel\",\n      \"properties\": {\n        \"dtype\": \"category\",\n        \"num_unique_values\": 1,\n        \"samples\": [\n          \"gas\"\n        ],\n        \"semantic_type\": \"\",\n        \"description\": \"\"\n      }\n    },\n    {\n      \"column\": \"odometer\",\n      \"properties\": {\n        \"dtype\": \"number\",\n        \"std\": 68293.67904645349,\n        \"min\": 1.0,\n        \"max\": 171750.0,\n        \"num_unique_values\": 5,\n        \"samples\": [\n          103176.0\n        ],\n        \"semantic_type\": \"\",\n        \"description\": \"\"\n      }\n    },\n    {\n      \"column\": \"title_status\",\n      \"properties\": {\n        \"dtype\": \"category\",\n        \"num_unique_values\": 1,\n        \"samples\": [\n          \"clean\"\n        ],\n        \"semantic_type\": \"\",\n        \"description\": \"\"\n      }\n    },\n    {\n      \"column\": \"transmission\",\n      \"properties\": {\n        \"dtype\": \"category\",\n        \"num_unique_values\": 1,\n        \"samples\": [\n          \"automatic\"\n        ],\n        \"semantic_type\": \"\",\n        \"description\": \"\"\n      }\n    },\n    {\n      \"column\": \"drive\",\n      \"properties\": {\n        \"dtype\": \"string\",\n        \"num_unique_values\": 3,\n        \"samples\": [\n          \"4wd\"\n        ],\n        \"semantic_type\": \"\",\n        \"description\": \"\"\n      }\n    },\n    {\n      \"column\": \"size\",\n      \"properties\": {\n        \"dtype\": \"category\",\n        \"num_unique_values\": 1,\n        \"samples\": [\n          \"full-size\"\n        ],\n        \"semantic_type\": \"\",\n        \"description\": \"\"\n      }\n    },\n    {\n      \"column\": \"type\",\n      \"properties\": {\n        \"dtype\": \"string\",\n        \"num_unique_values\": 3,\n        \"samples\": [\n          \"sedan\"\n        ],\n        \"semantic_type\": \"\",\n        \"description\": \"\"\n      }\n    },\n    {\n      \"column\": \"paint_color\",\n      \"properties\": {\n        \"dtype\": \"string\",\n        \"num_unique_values\": 3,\n        \"samples\": [\n          \"white\"\n        ],\n        \"semantic_type\": \"\",\n        \"description\": \"\"\n      }\n    },\n    {\n      \"column\": \"state\",\n      \"properties\": {\n        \"dtype\": \"string\",\n        \"num_unique_values\": 5,\n        \"samples\": [\n          \"sc\"\n        ],\n        \"semantic_type\": \"\",\n        \"description\": \"\"\n      }\n    }\n  ]\n}"
            }
          },
          "metadata": {},
          "execution_count": 22
        }
      ]
    },
    {
      "cell_type": "code",
      "execution_count": 23,
      "metadata": {
        "id": "BBPcrHSUUhLp",
        "outputId": "4deb2364-a5b6-406f-e329-0f6192057dc8",
        "colab": {
          "base_uri": "https://localhost:8080/"
        }
      },
      "outputs": [
        {
          "output_type": "stream",
          "name": "stdout",
          "text": [
            "Data Size: : (392871, 16)\n"
          ]
        }
      ],
      "source": [
        "# keep only those records with price & odometer values greater than 0\n",
        "clean_vehicles = vehicles[(vehicles['price'] > 0) & (vehicles['odometer'] > 0)]\n",
        "clean_vehicles.head()\n",
        "print(\"Data Size: : \" + str(clean_vehicles.shape))"
      ]
    },
    {
      "cell_type": "code",
      "source": [
        "#delete any duplicates\n",
        "clean_vehicles.drop_duplicates()\n",
        "clean_vehicles = clean_vehicles.sample(20000)\n",
        "clean_vehicles.reset_index(drop=True, inplace=True)\n",
        "clean_vehicles.shape"
      ],
      "metadata": {
        "id": "XuAOYo1p3K2r",
        "outputId": "56d3fa5f-bd70-4969-af93-c355ec770403",
        "colab": {
          "base_uri": "https://localhost:8080/"
        }
      },
      "execution_count": 24,
      "outputs": [
        {
          "output_type": "execute_result",
          "data": {
            "text/plain": [
              "(20000, 16)"
            ]
          },
          "metadata": {},
          "execution_count": 24
        }
      ]
    },
    {
      "cell_type": "code",
      "source": [
        "#making sure there are no null or empty values\n",
        "ax = sns.heatmap(\n",
        "\tclean_vehicles.isnull()\n",
        ")\n",
        "ax.set_title(\"Cleaned Dataframe Heatmap - Evaluating missed values\")\n",
        "plt.show()"
      ],
      "metadata": {
        "id": "iRzWwK8r3lcC",
        "outputId": "7179a005-ac30-44d4-c507-0cc0e35d7588",
        "colab": {
          "base_uri": "https://localhost:8080/",
          "height": 533
        }
      },
      "execution_count": 25,
      "outputs": [
        {
          "output_type": "display_data",
          "data": {
            "text/plain": [
              "<Figure size 640x480 with 2 Axes>"
            ],
            "image/png": "[encoded data removed]"
          },
          "metadata": {}
        }
      ]
    },
    {
      "cell_type": "code",
      "source": [
        "missing_data = missing_df(clean_vehicles)\n",
        "missing_data[missing_data['count']>0]"
      ],
      "metadata": {
        "id": "GIkpgv_Mu0Yv",
        "outputId": "f61c8b3d-c7a8-4b6c-f237-ec5877bfb416",
        "colab": {
          "base_uri": "https://localhost:8080/",
          "height": 53
        }
      },
      "execution_count": 26,
      "outputs": [
        {
          "output_type": "execute_result",
          "data": {
            "text/plain": [
              "Empty DataFrame\n",
              "Columns: [count, percentage]\n",
              "Index: []"
            ],
            "text/html": [
              "\n",
              "  <div id=\"df-56816c10-8736-4aae-98c3-6bb4cbd523ae\" class=\"colab-df-container\">\n",
              "    <div>\n",
              "<style scoped>\n",
              "    .dataframe tbody tr th:only-of-type {\n",
              "        vertical-align: middle;\n",
              "    }\n",
              "\n",
              "    .dataframe tbody tr th {\n",
              "        vertical-align: top;\n",
              "    }\n",
              "\n",
              "    .dataframe thead th {\n",
              "        text-align: right;\n",
              "    }\n",
              "</style>\n",
              "<table border=\"1\" class=\"dataframe\">\n",
              "  <thead>\n",
              "    <tr style=\"text-align: right;\">\n",
              "      <th></th>\n",
              "      <th>count</th>\n",
              "      <th>percentage</th>\n",
              "    </tr>\n",
              "  </thead>\n",
              "  <tbody>\n",
              "  </tbody>\n",
              "</table>\n",
              "</div>\n",
              "    <div class=\"colab-df-buttons\">\n",
              "\n",
              "  <div class=\"colab-df-container\">\n",
              "    <button class=\"colab-df-convert\" onclick=\"convertToInteractive('df-56816c10-8736-4aae-98c3-6bb4cbd523ae')\"\n",
              "            title=\"Convert this dataframe to an interactive table.\"\n",
              "            style=\"display:none;\">\n",
              "\n",
              "  <svg xmlns=\"http://www.w3.org/2000/svg\" height=\"24px\" viewBox=\"0 -960 960 960\">\n",
              "    <path d=\"M120-120v-720h720v720H120Zm60-500h600v-160H180v160Zm220 220h160v-160H400v160Zm0 220h160v-160H400v160ZM180-400h160v-160H180v160Zm440 0h160v-160H620v160ZM180-180h160v-160H180v160Zm440 0h160v-160H620v160Z\"/>\n",
              "  </svg>\n",
              "    </button>\n",
              "\n",
              "  <style>\n",
              "    .colab-df-container {\n",
              "      display:flex;\n",
              "      gap: 12px;\n",
              "    }\n",
              "\n",
              "    .colab-df-convert {\n",
              "      background-color: #E8F0FE;\n",
              "      border: none;\n",
              "      border-radius: 50%;\n",
              "      cursor: pointer;\n",
              "      display: none;\n",
              "      fill: #1967D2;\n",
              "      height: 32px;\n",
              "      padding: 0 0 0 0;\n",
              "      width: 32px;\n",
              "    }\n",
              "\n",
              "    .colab-df-convert:hover {\n",
              "      background-color: #E2EBFA;\n",
              "      box-shadow: 0px 1px 2px rgba(60, 64, 67, 0.3), 0px 1px 3px 1px rgba(60, 64, 67, 0.15);\n",
              "      fill: #174EA6;\n",
              "    }\n",
              "\n",
              "    .colab-df-buttons div {\n",
              "      margin-bottom: 4px;\n",
              "    }\n",
              "\n",
              "    [theme=dark] .colab-df-convert {\n",
              "      background-color: #3B4455;\n",
              "      fill: #D2E3FC;\n",
              "    }\n",
              "\n",
              "    [theme=dark] .colab-df-convert:hover {\n",
              "      background-color: #434B5C;\n",
              "      box-shadow: 0px 1px 3px 1px rgba(0, 0, 0, 0.15);\n",
              "      filter: drop-shadow(0px 1px 2px rgba(0, 0, 0, 0.3));\n",
              "      fill: #FFFFFF;\n",
              "    }\n",
              "  </style>\n",
              "\n",
              "    <script>\n",
              "      const buttonEl =\n",
              "        document.querySelector('#df-56816c10-8736-4aae-98c3-6bb4cbd523ae button.colab-df-convert');\n",
              "      buttonEl.style.display =\n",
              "        google.colab.kernel.accessAllowed ? 'block' : 'none';\n",
              "\n",
              "      async function convertToInteractive(key) {\n",
              "        const element = document.querySelector('#df-56816c10-8736-4aae-98c3-6bb4cbd523ae');\n",
              "        const dataTable =\n",
              "          await google.colab.kernel.invokeFunction('convertToInteractive',\n",
              "                                                    [key], {});\n",
              "        if (!dataTable) return;\n",
              "\n",
              "        const docLinkHtml = 'Like what you see? Visit the ' +\n",
              "          '<a target=\"_blank\" href=https://colab.research.google.com/notebooks/data_table.ipynb>data table notebook</a>'\n",
              "          + ' to learn more about interactive tables.';\n",
              "        element.innerHTML = '';\n",
              "        dataTable['output_type'] = 'display_data';\n",
              "        await google.colab.output.renderOutput(dataTable, element);\n",
              "        const docLink = document.createElement('div');\n",
              "        docLink.innerHTML = docLinkHtml;\n",
              "        element.appendChild(docLink);\n",
              "      }\n",
              "    </script>\n",
              "  </div>\n",
              "\n",
              "\n",
              "    </div>\n",
              "  </div>\n"
            ],
            "application/vnd.google.colaboratory.intrinsic+json": {
              "type": "dataframe",
              "summary": "{\n  \"name\": \"missing_data[missing_data['count']>0]\",\n  \"rows\": 0,\n  \"fields\": [\n    {\n      \"column\": \"count\",\n      \"properties\": {\n        \"dtype\": \"number\",\n        \"std\": null,\n        \"min\": null,\n        \"max\": null,\n        \"num_unique_values\": 0,\n        \"samples\": [],\n        \"semantic_type\": \"\",\n        \"description\": \"\"\n      }\n    },\n    {\n      \"column\": \"percentage\",\n      \"properties\": {\n        \"dtype\": \"number\",\n        \"std\": null,\n        \"min\": null,\n        \"max\": null,\n        \"num_unique_values\": 0,\n        \"samples\": [],\n        \"semantic_type\": \"\",\n        \"description\": \"\"\n      }\n    }\n  ]\n}"
            }
          },
          "metadata": {},
          "execution_count": 26
        }
      ]
    },
    {
      "cell_type": "code",
      "execution_count": null,
      "metadata": {
        "id": "hHinBlDSUhLp"
      },
      "outputs": [],
      "source": [
        "#drawhistplot(clean_vehicles,'price','viridis')\n",
        "\n",
        "#fig, ax = plt.subplots(1,2,figsize=(15,10))\n",
        "#fig = sns.histplot(data=clean_vehicles, x='price', palette='bright', hue='condition', ax=ax[0])\n",
        "#fig.set_title('Histogram for Price')\n",
        "#fig = sns.histplot(data=clean_vehicles, x='odometer', palette='bright', hue='condition',ax=ax[1])\n",
        "#fig.set_title('Histogram Plot for Odometer')\n",
        "#fig\n"
      ]
    },
    {
      "cell_type": "markdown",
      "source": [
        "### Identify Outliers"
      ],
      "metadata": {
        "id": "j1wvF7GH3vod"
      }
    },
    {
      "cell_type": "markdown",
      "source": [
        "In this section we will try to indetify outliers from price, odometer, year columns and modify the data\n",
        "\n",
        "we will use 1.5*IQR to find any value above 3rd quartile or below first quartile and remove them\n",
        "\n",
        "We will deleting outliers for Price, Odomter, and Year attributes"
      ],
      "metadata": {
        "id": "LtbQqUZ934jw"
      }
    },
    {
      "cell_type": "code",
      "execution_count": null,
      "metadata": {
        "id": "TNAAzw5lUhLp"
      },
      "outputs": [],
      "source": [
        "def remove_outliers(df, column):\n",
        "    factor =1.5\n",
        "    Q1 = df[column].quantile(0.25)\n",
        "    Q3 = df[column].quantile(0.75)\n",
        "    IQR = Q3 - Q1\n",
        "    lower_bound = Q1 - factor * IQR\n",
        "    upper_bound = Q3 + factor * IQR\n",
        "    df = df[(df[column] >= lower_bound) & (df[column] <= upper_bound)]\n",
        "    return df"
      ]
    },
    {
      "cell_type": "code",
      "execution_count": null,
      "metadata": {
        "id": "DRJ_EkV0UhLp"
      },
      "outputs": [],
      "source": [
        "#before & after deleting outliers for price\n",
        "fig, ax= plt.subplots(1,2,figsize=(10,8))\n",
        "fig = sns.histplot(clean_vehicles['price'], ax= ax[0]).set(title='Distribution of Price before outliers')\n",
        "clean_vehicles = remove_outliers(clean_vehicles,'price')\n",
        "fig = sns.histplot(clean_vehicles['price'], ax=ax[1]).set(title='Distribution of Price after outliers')\n",
        "plt.show()"
      ]
    },
    {
      "cell_type": "code",
      "source": [
        "#before & after deleting outliers for odomater\n",
        "fig, ax = plt.subplots(1,2,figsize=(10,8))\n",
        "fig = sns.histplot(clean_vehicles['odometer'], ax =ax[0]).set(title='Distribution of odometer before outliers')\n",
        "clean_vehicles = remove_outliers(clean_vehicles,'odometer')\n",
        "fig = sns.histplot(clean_vehicles['odometer'],ax=ax[1]).set(title='Distribution of odometer After Outliers')\n",
        "plt.show()"
      ],
      "metadata": {
        "id": "uBGO-w5bCfve"
      },
      "execution_count": null,
      "outputs": []
    },
    {
      "cell_type": "code",
      "source": [
        "#before & after deleting outliers for year\n",
        "fig, ax = plt.subplots(1,2,figsize=(10,8))\n",
        "fig = sns.histplot(clean_vehicles['year'], ax=ax[0]).set(title='Distribution of Years before outliers')\n",
        "clean_vehicles = remove_outliers(clean_vehicles,'year')\n",
        "fig = sns.histplot(clean_vehicles['year'], ax= ax[1]).set(title='Distribution of years After Outliers')"
      ],
      "metadata": {
        "id": "cBGNiTGjDUG0"
      },
      "execution_count": null,
      "outputs": []
    },
    {
      "cell_type": "code",
      "source": [
        "# draw histograms of price, odometer & year with hue as condition\n",
        "fig, ax = plt.subplots(1,3,figsize=(15,10))\n",
        "fig = sns.histplot(data=clean_vehicles, x='price', palette='bright', hue='condition', ax=ax[0])\n",
        "fig.set_title('Histogram for Price')\n",
        "fig = sns.histplot(data=clean_vehicles, x='odometer', palette='bright', hue='condition',ax=ax[1])\n",
        "fig.set_title('Histogram Plot for Odometer')\n",
        "fig = sns.histplot(data=clean_vehicles, x='year', palette='bright', hue='condition',ax=ax[2])\n",
        "fig.set_title('Histogram Plot for year')\n",
        "fig"
      ],
      "metadata": {
        "id": "yum2uHGkQHQN"
      },
      "execution_count": null,
      "outputs": []
    },
    {
      "cell_type": "code",
      "source": [
        "# comnapring scatter plots for year & odometer with prices after deleting outliers\n",
        "drawscatterplot(clean_vehicles,'year','price')\n",
        "drawscatterplot(clean_vehicles,'odometer','price')"
      ],
      "metadata": {
        "id": "JHc2u--WfZuU"
      },
      "execution_count": null,
      "outputs": []
    },
    {
      "cell_type": "markdown",
      "source": [
        "### Convert Categorical values into inter values"
      ],
      "metadata": {
        "id": "vw6GJJQFFlMG"
      }
    },
    {
      "cell_type": "code",
      "source": [
        "#draw pariplot among set of fields\n",
        "\n",
        "def sample_data(df,cols,no_of_samples,random_state):\n",
        "    return df[cols].sample(n=no_of_samples, random_state=random_state)\n",
        "\n",
        "def drawpairplot(df,hue,palette):\n",
        "  sns.pairplot(df, hue=hue, palette=palette)\n",
        "\n",
        "drawpairplot(sample_data(clean_vehicles,['price', 'year','odometer','type'],1000,1),'type','bright')"
      ],
      "metadata": {
        "id": "jpun35cPG_Wo"
      },
      "execution_count": null,
      "outputs": []
    },
    {
      "cell_type": "markdown",
      "source": [
        "**Observations**:\n",
        "\n",
        "\n",
        "1.   There is a possitive corrleation between price and year\n",
        "2.   There is a negetive correlation between price and odometer\n",
        "\n"
      ],
      "metadata": {
        "id": "Q1zSMc1bMpdn"
      }
    },
    {
      "cell_type": "code",
      "source": [
        "le = LabelEncoder()\n",
        "le_encorers = {}\n",
        "clean_vehicles_encoded = clean_vehicles.copy()\n",
        "for col in cat_cols:\n",
        "    encoded_values = le.fit_transform(clean_vehicles_encoded[col])\n",
        "    le_name_mapping = dict(zip(encoded_values, clean_vehicles_encoded[col]))\n",
        "    clean_vehicles_encoded[col] = encoded_values\n",
        "    le_encorers[col] = le_name_mapping\n",
        "    print('Feature', col)\n",
        "    print('mapping', le_name_mapping)"
      ],
      "metadata": {
        "id": "fdulApq_E-Tf"
      },
      "execution_count": null,
      "outputs": []
    },
    {
      "cell_type": "code",
      "source": [
        "clean_vehicles_encoded.head()"
      ],
      "metadata": {
        "id": "hVH_5qWbJ8iP"
      },
      "execution_count": null,
      "outputs": []
    },
    {
      "cell_type": "code",
      "source": [
        "le_encorers['type']"
      ],
      "metadata": {
        "id": "B_BFbfaTGEps"
      },
      "execution_count": null,
      "outputs": []
    },
    {
      "cell_type": "code",
      "source": [
        "drawpairplot(sample_data(clean_vehicles_encoded,['price', 'manufacturer','condition','cylinders','transmission','type'],1000,1),'type','bright')"
      ],
      "metadata": {
        "id": "Dbms_fZEFgKv"
      },
      "execution_count": null,
      "outputs": []
    },
    {
      "cell_type": "code",
      "source": [
        "#Create a correlation Heatmap with all columns\n",
        "plt.figure(figsize=(20, 10))\n",
        "heatmap = sns.heatmap(clean_vehicles_encoded.corr(), vmin=-1, vmax=1, annot=True, cmap='coolwarm')\n",
        "heatmap.set_title('Correlation Heatmap');"
      ],
      "metadata": {
        "id": "z33wOxU8Ng1w"
      },
      "execution_count": null,
      "outputs": []
    },
    {
      "cell_type": "markdown",
      "source": [
        "**Observations**:\n",
        "\n",
        "\n",
        "1.   As expected price and Year has positive correlation\n",
        "2.   Price and number of cylinders has postive correlation\n",
        "3.   Surprisngly paint color also has positive correlation with price, type and drive types\n",
        "4.   year has negative correlation with odometer and surprisngly with fule type\n",
        "5.   Cylinders and fuel has negative correlation"
      ],
      "metadata": {
        "id": "VC90liC9OFPP"
      }
    },
    {
      "cell_type": "markdown",
      "metadata": {
        "id": "NpZUgC5uUhLp"
      },
      "source": [
        "### Modeling\n",
        "\n",
        "With your (almost?) final dataset in hand, it is now time to build some models.  Here, you should build a number of different regression models with the price as the target.  In building your models, you should explore different parameters and be sure to cross-validate your findings."
      ]
    },
    {
      "cell_type": "markdown",
      "source": [
        "I will split my data into train and development data sets and will use Linear Regression, Ridge and Lasso models to define best model"
      ],
      "metadata": {
        "id": "0dw-Jtb39_Bt"
      }
    },
    {
      "cell_type": "code",
      "execution_count": null,
      "metadata": {
        "id": "R8l17sI5UhLp"
      },
      "outputs": [],
      "source": [
        "# split data into train and development data\n",
        "X = clean_vehicles_encoded.drop(columns=['price'])\n",
        "y = clean_vehicles_encoded['price']"
      ]
    },
    {
      "cell_type": "code",
      "execution_count": null,
      "metadata": {
        "id": "kOfXs9foUhLp"
      },
      "outputs": [],
      "source": [
        "# use train and test split method to split data\n",
        "X_train, X_test, y_train, y_test = train_test_split(X, y, test_size=0.3, random_state=42, shuffle=True)\n"
      ]
    },
    {
      "cell_type": "markdown",
      "source": [
        "###LInear Regression"
      ],
      "metadata": {
        "id": "j_QPmUK0-wNs"
      }
    },
    {
      "cell_type": "code",
      "execution_count": null,
      "metadata": {
        "id": "ZmgRZaTYUhLq"
      },
      "outputs": [],
      "source": [
        "# collect all model results in a list for final comparision\n",
        "results = []\n",
        "\n",
        "# define a simple Linear Regression model and find MSE, MAE\n",
        "pipeline = Pipeline([\n",
        "    ('scaler', StandardScaler()),\n",
        "    ('model', LinearRegression())\n",
        "])\n",
        "pipeline.fit(X_train, y_train)\n",
        "train_predicts_ln = pipeline.predict(X_train)\n",
        "test_predicts_ln = pipeline.predict(X_test)\n",
        "\n",
        "train_mse_ln = mean_squared_error(y_train, train_predicts_ln)\n",
        "test_mse_ln = mean_squared_error(y_test, test_predicts_ln)\n",
        "train_mae_ln = mean_absolute_error(y_train, train_predicts_ln)\n",
        "test_mae_ln = mean_absolute_error(y_test, test_predicts_ln)\n",
        "\n",
        "print(f\"Linear Model: train_mse={train_mse_ln}, test_mse={test_mse_ln}\")\n",
        "print(f\"Linear Model: train_mae={train_mae_ln}, test_mae={test_mae_ln}\")\n",
        "print(f\"Model Accuracy: {round(pipeline.score(X_test, y_test)*100,2)}\")\n",
        "print(f\"Model Coefficients: {pipeline.named_steps['model'].coef_}\")\n",
        "print(f\"Model Intercepts: {pipeline.named_steps['model'].intercept_}\")\n",
        "\n",
        "simple_linear_results = {\n",
        "    'model': 'Linear Regression',\n",
        "    'train_mse': train_mse_ln,\n",
        "    'test_mse': test_mse_ln,\n",
        "    'train_mae': train_mae_ln,\n",
        "    'test_mae': test_mae_ln,\n",
        "    'accuracy': round(pipeline.score(X_test, y_test)*100,2),\n",
        "    'coefficients': pipeline.named_steps['model'].coef_,\n",
        "    'intercept': pipeline.named_steps['model'].intercept_\n",
        "}\n",
        "results.append(simple_linear_results)"
      ]
    },
    {
      "cell_type": "code",
      "source": [
        "## Visualization of how well the model did by plotting the actual and predicted values for both year and odometer against price\n",
        "fig, axes = plt.subplots(1, 2, figsize =(15, 10))\n",
        "fig = sns.scatterplot(x=X_test.year, y=y_test, ax=axes[0], label ='Actual', alpha=0.5)\n",
        "fig = sns.scatterplot(x=X_test.year, y=test_predicts_ln, ax=axes[0], label ='Predicted', alpha=0.5)\n",
        "axes[0].set(xlabel='Year', ylabel='Price')\n",
        "axes[0].legend()\n",
        "axes[0].set_title('Linear Regression Results - Year against Price')\n",
        "\n",
        "fig = sns.scatterplot(x=X_test.odometer, y=y_test, ax=axes[1], label ='Actual', alpha=0.5)\n",
        "fig = sns.scatterplot(x=X_test.odometer, y=test_predicts_ln, ax=axes[1], label ='Predicted', alpha=0.5)\n",
        "axes[1].set(xlabel='odometer', ylabel='Price')\n",
        "axes[1].legend()\n",
        "axes[1].set_title('Linear Regression Results - odometer against Price')\n",
        "plt.show()"
      ],
      "metadata": {
        "id": "mgvGg5eECCYw"
      },
      "execution_count": null,
      "outputs": []
    },
    {
      "cell_type": "markdown",
      "source": [
        "###LInear Regression with Polynomial Degrees"
      ],
      "metadata": {
        "id": "xURdeh6wB3A6"
      }
    },
    {
      "cell_type": "code",
      "execution_count": null,
      "metadata": {
        "id": "SaC0np_LUhLq"
      },
      "outputs": [],
      "source": [
        "# define a  Linear Regression model with Polynomial degree 2 and find MSE, MAE\n",
        "pipeline_poly = Pipeline([\n",
        "    ('scaler', StandardScaler()),\n",
        "    ('poly', PolynomialFeatures(degree=2, include_bias=False)),\n",
        "    ('model', LinearRegression())\n",
        "])\n",
        "pipeline_poly.fit(X_train, y_train)\n",
        "train_predicts_poly= pipeline_poly.predict(X_train)\n",
        "test_predicts_poly = pipeline_poly.predict(X_test)\n",
        "\n",
        "train_mse_poly = mean_squared_error(y_train, train_predicts_poly)\n",
        "test_mse_poly = mean_squared_error(y_test, test_predicts_poly)\n",
        "train_mae_poly= mean_absolute_error(y_train, train_predicts_poly)\n",
        "test_mae_poly = mean_absolute_error(y_test, test_predicts_poly)\n",
        "\n",
        "print(f\"Linear Model: train_mse={train_mse_poly}, test_mse={test_mse_poly}\")\n",
        "print(f\"Linear Model: train_mae={train_mae_poly}, test_mae={test_mae_poly}\")\n",
        "print(f\"Model Accuracy: {round(pipeline_poly.score(X_test, y_test)*100,2)}\")\n",
        "#print(f\"Model Coefficients: {pipeline_poly.named_steps['model'].coef_}\")\n",
        "print(f\"Model Intercepts: {pipeline_poly.named_steps['model'].intercept_}\")\n",
        "\n",
        "poly_linear_results = {\n",
        "    'model': 'Poly Degree 2 Linear Regression',\n",
        "    'train_mse': train_mse_poly,\n",
        "    'test_mse': test_mse_poly,\n",
        "    'train_mae': train_mae_poly,\n",
        "    'test_mae': test_mae_poly,\n",
        "    'accuracy': round(pipeline_poly.score(X_test, y_test)*100,2),\n",
        "    'coefficients': pipeline_poly.named_steps['model'].coef_,\n",
        "    'intercept': pipeline_poly.named_steps['model'].intercept_\n",
        "}\n",
        "\n",
        "results.append(poly_linear_results)"
      ]
    },
    {
      "cell_type": "code",
      "source": [
        "## Visualization of how well the model did by plotting the actual and predicted values for both year and odometer against price\n",
        "fig, axes = plt.subplots(1, 2, figsize =(15, 10))\n",
        "fig = sns.scatterplot(x=X_test.year, y=y_test, ax=axes[0], label ='Actual', alpha=0.5)\n",
        "fig = sns.scatterplot(x=X_test.year, y=test_predicts_poly, ax=axes[0], label ='Predicted', alpha=0.5)\n",
        "axes[0].set(xlabel='Year', ylabel='Price')\n",
        "axes[0].legend()\n",
        "axes[0].set_title('Linear Regression with Poly degree 2 Results - Year against Price')\n",
        "\n",
        "fig = sns.scatterplot(x=X_test.odometer, y=y_test, ax=axes[1], label ='Actual', alpha=0.5)\n",
        "fig = sns.scatterplot(x=X_test.odometer, y=test_predicts_poly, ax=axes[1], label ='Predicted', alpha=0.5)\n",
        "axes[1].set(xlabel='odometer', ylabel='Price')\n",
        "axes[1].legend()\n",
        "axes[1].set_title('Linear Regression with Poly degree 2 Results - odometer against Price')\n",
        "plt.show()"
      ],
      "metadata": {
        "id": "DJZjWHu6DwUf"
      },
      "execution_count": null,
      "outputs": []
    },
    {
      "cell_type": "markdown",
      "source": [
        "###Linear Regression with Grid Search"
      ],
      "metadata": {
        "id": "nU3YvIr_EAZM"
      }
    },
    {
      "cell_type": "code",
      "source": [
        "# create a pipeline with linear regression but do not include degree\n",
        "pipeline = Pipeline([\n",
        "    ('scaler', StandardScaler()),\n",
        "    ('poly', PolynomialFeatures(include_bias=False)),\n",
        "    ('model', LinearRegression())\n",
        "])\n",
        "\n",
        "# define degree parameters to assign to Grid search\n",
        "param_grid ={\n",
        "    'poly__degree':[1,2,3]\n",
        "}\n",
        "\n",
        "grid_linear = GridSearchCV(pipeline, param_grid, cv=5)\n",
        "grid_linear.fit(X_train, y_train)\n"
      ],
      "metadata": {
        "id": "GVKl8mlsD-Ne"
      },
      "execution_count": null,
      "outputs": []
    },
    {
      "cell_type": "code",
      "source": [
        "#what is the best estimator and degree\n",
        "best_params_linear = grid_linear.best_params_\n",
        "best_model_linear = grid_linear.best_estimator_\n",
        "\n",
        "print(f\"Best Parameters: {best_params_linear}\")\n",
        "print(f\"Best Model: {best_model_linear}\")"
      ],
      "metadata": {
        "id": "kw2nZek-GRom"
      },
      "execution_count": null,
      "outputs": []
    },
    {
      "cell_type": "code",
      "source": [
        "# from the best model, calculare MSE & MAE\n",
        "pred_train_grid = best_model_linear.predict(X_train)\n",
        "pred_test_grid = best_model_linear.predict(X_test)\n",
        "\n",
        "train_mse_grid = mean_squared_error(y_train, pred_train_grid)\n",
        "test_mse_grid = mean_squared_error(y_test, pred_test_grid)\n",
        "train_mae_grid = mean_absolute_error(y_train, pred_train_grid)\n",
        "test_mae_grid = mean_absolute_error(y_test, pred_test_grid)\n",
        "\n",
        "print(f\"Grid Search Linear Model: train_mse={train_mse_grid}, test_mse={test_mse_grid}\")\n",
        "print(f\"Grid Search Linear Model: train_mae={train_mae_grid}, test_mae={test_mae_grid}\")\n",
        "print(f\"Model Accuracy: {round(best_model_linear.score(X_test, y_test)*100,2)}\")\n",
        "#print(f\"Model Coefficients: {best_model_linear.named_steps['model'].coef_}\")\n",
        "print(f\"Model Intercepts: {best_model_linear.named_steps['model'].intercept_}\")\n",
        "\n",
        "grid_linear_results={\n",
        "    'model': 'Grid Search Linear Regression',\n",
        "    'train_mse': train_mse_grid,\n",
        "    'test_mse': test_mse_grid,\n",
        "    'train_mae': train_mae_grid,\n",
        "    'test_mae': test_mae_grid,\n",
        "    'accuracy': round(best_model_linear.score(X_test, y_test)*100,2),\n",
        "    'coefficients': best_model_linear.named_steps['model'].coef_,\n",
        "    'intercept': best_model_linear.named_steps['model'].intercept_\n",
        "}\n",
        "results.append(grid_linear_results)"
      ],
      "metadata": {
        "id": "dx9K_7e5IVQ1"
      },
      "execution_count": null,
      "outputs": []
    },
    {
      "cell_type": "code",
      "source": [
        "## Visualization of how well the model did by plotting the actual and predicted values for both year and odometer against price\n",
        "fig, axes = plt.subplots(1, 2, figsize =(15, 10))\n",
        "fig = sns.scatterplot(x=X_test.year, y=y_test, ax=axes[0], label ='Actual', alpha=0.5)\n",
        "fig = sns.scatterplot(x=X_test.year, y=pred_test_grid, ax=axes[0], label ='Predicted', alpha=0.5)\n",
        "axes[0].set(xlabel='Year', ylabel='Price')\n",
        "axes[0].legend()\n",
        "axes[0].set_title('Linear Regression with Linear Grid Results  - Year against Price')\n",
        "\n",
        "fig = sns.scatterplot(x=X_test.odometer, y=y_test, ax=axes[1], label ='Actual', alpha=0.5)\n",
        "fig = sns.scatterplot(x=X_test.odometer, y=pred_test_grid, ax=axes[1], label ='Predicted', alpha=0.5)\n",
        "axes[1].set(xlabel='odometer', ylabel='Price')\n",
        "axes[1].legend()\n",
        "axes[1].set_title('Linear Regression with Linear Grid Results - odometer against Price')\n",
        "plt.show()"
      ],
      "metadata": {
        "id": "pFHpLxE0EH-V"
      },
      "execution_count": null,
      "outputs": []
    },
    {
      "cell_type": "markdown",
      "source": [
        "### Ridge Regression with Grid Search"
      ],
      "metadata": {
        "id": "_Bl9WUf3JIrP"
      }
    },
    {
      "cell_type": "code",
      "source": [
        "# create pipeline with ridge regressoion\n",
        "ridge_pipeline = Pipeline([\n",
        "    ('scaler', StandardScaler()),\n",
        "    ('poly', PolynomialFeatures(include_bias=False)),\n",
        "    ('model', Ridge())\n",
        "])\n",
        "\n",
        "param_grid={\n",
        "    'poly__degree':[1,2,3],\n",
        "    'model__alpha':[0.1,1,10]\n",
        "}\n",
        "\n",
        "grid_ridge = GridSearchCV(ridge_pipeline, param_grid, cv=5)\n",
        "grid_ridge.fit(X_train, y_train)\n"
      ],
      "metadata": {
        "id": "L-lmWLfKJHkp"
      },
      "execution_count": null,
      "outputs": []
    },
    {
      "cell_type": "code",
      "source": [
        "# find the best alpha and degree\n",
        "best_model_ridge = grid_ridge.best_estimator_\n",
        "best_params_ridge = grid_ridge.best_params_\n",
        "\n",
        "print(f\"Best Parameters: {best_params_ridge}\")\n",
        "print(f\"Best Model: {best_model_ridge}\")"
      ],
      "metadata": {
        "id": "0WaapjZFKHpa"
      },
      "execution_count": null,
      "outputs": []
    },
    {
      "cell_type": "code",
      "source": [
        "preds_train_ridge = best_model_ridge.predict(X_train)\n",
        "preds_test_ridge = best_model_ridge.predict(X_test)\n",
        "\n",
        "train_mse_ridge = mean_squared_error(y_train, preds_train_ridge)\n",
        "test_mse_ridge = mean_squared_error(y_test, preds_test_ridge)\n",
        "train_mae_ridge = mean_absolute_error(y_train, preds_train_ridge)\n",
        "test_mae_ridge = mean_absolute_error(y_test, preds_test_ridge)\n",
        "\n",
        "print(f\"Grid Search Ridge Model: train_mse={train_mse_ridge}, test_mse={test_mse_ridge}\")\n",
        "print(f\"Grid Search Ridge Model: train_mae={train_mae_ridge}, test_mae={test_mae_ridge}\")\n",
        "print(f\"Model Accuracy: {round(best_model_ridge.score(X_test, y_test)*100,2)}\")\n",
        "#print(f\"Model Coefficients: {best_model_ridge.named_steps['model'].coef_}\")\n",
        "print(f\"Model Intercepts: {best_model_ridge.named_steps['model'].intercept_}\")\n",
        "\n",
        "grid_ridge_results={\n",
        "    'model': 'Grid Search Ridge Regression',\n",
        "    'train_mse': train_mse_ridge,\n",
        "    'test_mse': test_mse_ridge,\n",
        "    'train_mae': train_mae_ridge,\n",
        "    'test_mae': test_mae_ridge,\n",
        "    'accuracy': round(best_model_ridge.score(X_test, y_test)*100,2),\n",
        "    'coefficients': best_model_ridge.named_steps['model'].coef_,\n",
        "    'intercept': best_model_ridge.named_steps['model'].intercept_\n",
        "}\n",
        "results.append(grid_ridge_results)\n"
      ],
      "metadata": {
        "id": "YWU_kz_JKKEZ"
      },
      "execution_count": null,
      "outputs": []
    },
    {
      "cell_type": "code",
      "source": [
        "## Visualization of how well the model did by plotting the actual and predicted values for both year and odometer against price\n",
        "fig, axes = plt.subplots(1, 2, figsize =(15, 10))\n",
        "fig = sns.scatterplot(x=X_test.year, y=y_test, ax=axes[0], label ='Actual', alpha=0.5)\n",
        "fig = sns.scatterplot(x=X_test.year, y=preds_test_ridge, ax=axes[0], label ='Predicted', alpha=0.5)\n",
        "axes[0].set(xlabel='Year', ylabel='Price')\n",
        "axes[0].legend()\n",
        "axes[0].set_title('Linear Regression with Ridge Results  - Year against Price')\n",
        "\n",
        "fig = sns.scatterplot(x=X_test.odometer, y=y_test, ax=axes[1], label ='Actual', alpha=0.5)\n",
        "fig = sns.scatterplot(x=X_test.odometer, y=preds_test_ridge, ax=axes[1], label ='Predicted', alpha=0.5)\n",
        "axes[1].set(xlabel='odometer', ylabel='Price')\n",
        "axes[1].legend()\n",
        "axes[1].set_title('Linear Regression with Ridge Results - odometer against Price')\n",
        "plt.show()"
      ],
      "metadata": {
        "id": "1-SYa09YEoNO"
      },
      "execution_count": null,
      "outputs": []
    },
    {
      "cell_type": "markdown",
      "source": [
        "### Lasso Regression with Grid Search"
      ],
      "metadata": {
        "id": "sOJY9SvyK0R_"
      }
    },
    {
      "cell_type": "code",
      "source": [
        "# create lasso pipeline using GridSearch\n",
        "\n",
        "lasso_pipeline = Pipeline([\n",
        "    ('scaler', StandardScaler()),\n",
        "    ('poly', PolynomialFeatures(include_bias=False)),\n",
        "    ('model', Lasso(random_state = 42))\n",
        "])\n",
        "\n",
        "param_grid={\n",
        "    'poly__degree':[1,2,3]\n",
        "}\n",
        "\n",
        "grid_lasso = GridSearchCV(lasso_pipeline, param_grid, cv=5)\n",
        "grid_lasso.fit(X_train, y_train)"
      ],
      "metadata": {
        "id": "K4Hgwf-XK2uT"
      },
      "execution_count": null,
      "outputs": []
    },
    {
      "cell_type": "code",
      "source": [
        "#best model\n",
        "best_model_lasso = grid_lasso.best_estimator_\n",
        "best_params_lasso = grid_lasso.best_params_\n",
        "\n",
        "print(f\"Best Parameters: {best_params_lasso}\")\n",
        "print(f\"Best Model: {best_model_lasso}\")"
      ],
      "metadata": {
        "id": "5x_4gvBGK2xk"
      },
      "execution_count": null,
      "outputs": []
    },
    {
      "cell_type": "code",
      "source": [
        "train_preds_lasso = best_model_lasso.predict(X_train)\n",
        "test_preds_lasso = best_model_lasso.predict(X_test)\n",
        "\n",
        "train_mse_lasso = mean_squared_error(y_train, train_preds_lasso)\n",
        "test_mse_lasso = mean_squared_error(y_test, test_preds_lasso)\n",
        "train_mae_lasso = mean_absolute_error(y_train, train_preds_lasso)\n",
        "test_mae_lasso = mean_absolute_error(y_test, test_preds_lasso)\n",
        "\n",
        "print(f\"Grid Search Lasso Model: train_mse={train_mse_lasso}, test_mse={test_mse_lasso}\")\n",
        "print(f\"Grid Search Lasso Model: train_mae={train_mae_lasso}, test_mae={test_mae_lasso}\")\n",
        "print(f\"Model Accuracy: {round(best_model_lasso.score(X_test, y_test)*100,2)}\")\n",
        "#print(f\"Model Coefficients: {best_model_lasso.named_steps['model'].coef_}\")\n",
        "print(f\"Model Intercepts: {best_model_lasso.named_steps['model'].intercept_}\")\n",
        "\n",
        "grid_lasso={\n",
        "    'model': 'Grid Search Lasso Regression',\n",
        "    'train_mse': train_mse_lasso,\n",
        "    'test_mse': test_mse_lasso,\n",
        "    'train_mae': train_mae_lasso,\n",
        "    'test_mae': test_mae_lasso,\n",
        "    'accuracy': round(best_model_lasso.score(X_test, y_test)*100,2),\n",
        "    'coefficients': best_model_lasso.named_steps['model'].coef_,\n",
        "    'intercept': best_model_lasso.named_steps['model'].intercept_\n",
        "}\n",
        "results.append(grid_lasso)\n"
      ],
      "metadata": {
        "id": "4b5KY8j7K20P"
      },
      "execution_count": null,
      "outputs": []
    },
    {
      "cell_type": "code",
      "source": [
        "## Visualization of how well the model did by plotting the actual and predicted values for both year and odometer against price\n",
        "fig, axes = plt.subplots(1, 2, figsize =(15, 10))\n",
        "fig = sns.scatterplot(x=X_test.year, y=y_test, ax=axes[0], label ='Actual', alpha=0.5)\n",
        "fig = sns.scatterplot(x=X_test.year, y=test_preds_lasso, ax=axes[0], label ='Predicted', alpha=0.5)\n",
        "axes[0].set(xlabel='Year', ylabel='Price')\n",
        "axes[0].legend()\n",
        "axes[0].set_title('Linear Regression with Lasso Results  - Year against Price')\n",
        "\n",
        "fig = sns.scatterplot(x=X_test.odometer, y=y_test, ax=axes[1], label ='Actual', alpha=0.5)\n",
        "fig = sns.scatterplot(x=X_test.odometer, y=test_preds_lasso, ax=axes[1], label ='Predicted', alpha=0.5)\n",
        "axes[1].set(xlabel='odometer', ylabel='Price')\n",
        "axes[1].legend()\n",
        "axes[1].set_title('Linear Regression with Lasso Results - odometer against Price')\n",
        "plt.show()"
      ],
      "metadata": {
        "id": "g8jKE6zlH4Js"
      },
      "execution_count": null,
      "outputs": []
    },
    {
      "cell_type": "markdown",
      "source": [
        "### Sequential Feature selection\n",
        "\n"
      ],
      "metadata": {
        "id": "S0NMuSCTMuW2"
      }
    },
    {
      "cell_type": "code",
      "source": [
        "#Create a pipline with sequential feature selection\n",
        "\n",
        "from sklearn.feature_selection import SequentialFeatureSelector\n",
        "\n",
        "seq_pipeline = Pipeline([\n",
        "    ('scaler', StandardScaler()),\n",
        "    ('poly', PolynomialFeatures(include_bias=False)),\n",
        "    ('feature_selection', SequentialFeatureSelector(LinearRegression(), n_features_to_select=5, direction='forward')),\n",
        "    ('model', LinearRegression())\n",
        "])\n",
        "\n",
        "param_grid = {\n",
        "    'poly__degree': [1, 2, 3]\n",
        "}\n",
        "\n",
        "grid_seq = GridSearchCV(seq_pipeline, param_grid, cv=5)\n",
        "grid_seq.fit(X_train, y_train)"
      ],
      "metadata": {
        "id": "LE-3J3uBK23J"
      },
      "execution_count": null,
      "outputs": []
    },
    {
      "cell_type": "code",
      "source": [
        "best_model_seq = grid_seq.best_estimator_\n",
        "best_params_seq = grid_seq.best_params_\n",
        "\n",
        "print(f\"Best Parameters: {best_params_seq}\")\n",
        "print(f\"Best Model: {best_model_seq}\")"
      ],
      "metadata": {
        "id": "Dx1VZJrDK25L"
      },
      "execution_count": null,
      "outputs": []
    },
    {
      "cell_type": "code",
      "source": [
        "train_preds_seq = best_model_seq.predict(X_train)\n",
        "test_preds_seq = best_model_seq.predict(X_test)\n",
        "\n",
        "train_mse_seq = mean_squared_error(y_train, train_preds_seq)\n",
        "test_mse_seq = mean_squared_error(y_test, test_preds_seq)\n",
        "train_mae_seq= mean_absolute_error(y_train, train_preds_seq)\n",
        "test_mae_seq = mean_absolute_error(y_test, test_preds_seq)\n",
        "\n",
        "print(f\"Grid Search Lasso Model: train_mse={train_mse_seq}, test_mse={test_mse_seq}\")\n",
        "print(f\"Grid Search Lasso Model: train_mae={train_mae_seq}, test_mae={test_mae_seq}\")\n",
        "print(f\"Model Accuracy: {round(best_model_seq.score(X_test, y_test)*100,2)}\")\n",
        "print(f\"Model Intercepts: {best_model_seq.named_steps['model'].intercept_}\")\n",
        "\n",
        "grid_seq ={\n",
        "    'model': 'Grid Search Sequential Feature Selection',\n",
        "    'train_mse': train_mse_seq,\n",
        "    'test_mse': test_mse_seq,\n",
        "    'train_mae': train_mae_seq,\n",
        "    'test_mae': test_mae_seq,\n",
        "    'accuracy': round(best_model_seq.score(X_test, y_test)*100,2),\n",
        "    'coefficients': best_model_seq.named_steps['model'].coef_,\n",
        "    'intercept': best_model_seq.named_steps['model'].intercept_\n",
        "}\n",
        "results.append(grid_seq)"
      ],
      "metadata": {
        "id": "7-ACkfZQSLUZ"
      },
      "execution_count": null,
      "outputs": []
    },
    {
      "cell_type": "markdown",
      "source": [
        "### K-Fold Feature selection"
      ],
      "metadata": {
        "id": "rlSZku7aM2Aq"
      }
    },
    {
      "cell_type": "code",
      "source": [
        "from sklearn.model_selection import KFold\n",
        "\n",
        "# create a linear regression pipeline\n",
        "pipeline = Pipeline([\n",
        "    ('poly', PolynomialFeatures(include_bias=False)),\n",
        "    ('scaler', StandardScaler()),\n",
        "    ('linear_regression', LinearRegression())\n",
        "])\n",
        "\n",
        "# Define the K-Fold cross-validator\n",
        "kf = KFold(n_splits=5, shuffle=True, random_state=42)\n",
        "\n",
        "param_grid = {\n",
        "    'poly__degree': [1, 2, 3]\n",
        "}\n",
        "\n",
        "grid_search = GridSearchCV(pipeline, param_grid, cv=kf)\n",
        "grid_search.fit(X_train, y_train)"
      ],
      "metadata": {
        "id": "n9NJBV6JK28F"
      },
      "execution_count": null,
      "outputs": []
    },
    {
      "cell_type": "code",
      "source": [
        "# best degree for KFOLD\n",
        "best_model_kfold = grid_search.best_estimator_\n",
        "best_params_kfold = grid_search.best_params_\n",
        "\n",
        "print(f\"Best Parameters: {best_params_kfold}\")\n",
        "print(f\"Best Model: {best_model_kfold}\")"
      ],
      "metadata": {
        "id": "tAvpL6vdK2-N"
      },
      "execution_count": null,
      "outputs": []
    },
    {
      "cell_type": "code",
      "source": [
        "train_preds_kf = best_model_kfold.predict(X_train)\n",
        "test_preds_kf = best_model_kfold.predict(X_test)\n",
        "\n",
        "  # Calculate evaluation metrics\n",
        "train_mse_kf = mean_squared_error(y_train, train_preds_kf)\n",
        "test_mse_kf = mean_squared_error(y_test, test_preds_kf)\n",
        "train_mae_kf= mean_absolute_error(y_train, train_preds_kf)\n",
        "test_mae_kf = mean_absolute_error(y_test, test_preds_kf)\n",
        "\n",
        "print(f\"Grid Search Lasso Model: train_mse={train_mse_kf}, test_mse={test_mse_kf}\")\n",
        "print(f\"Grid Search Lasso Model: train_mae={train_mae_kf}, test_mae={test_mae_kf}\")\n",
        "print(f\"Model Accuracy: {round(best_model_kfold.score(X_test, y_test)*100,2)}\")\n",
        "print(f\"Model Intercepts: {best_model_kfold.named_steps['linear_regression'].intercept_}\")\n",
        "\n",
        "grid_kfold={\n",
        "    'model': 'Grid Search K-Fold Feature Selection',\n",
        "    'train_mse': train_mse_kf,\n",
        "    'test_mse': test_mse_kf,\n",
        "    'train_mae': train_mae_kf,\n",
        "    'test_mae': test_mae_kf,\n",
        "    'accuracy': round(best_model_kfold.score(X_test, y_test)*100,2),\n",
        "    'coefficients': best_model_kfold.named_steps['linear_regression'].coef_,\n",
        "    'intercept': best_model_kfold.named_steps['linear_regression'].intercept_\n",
        "}\n",
        "results.append(grid_kfold)"
      ],
      "metadata": {
        "id": "GH1Lm1zGTEEt"
      },
      "execution_count": null,
      "outputs": []
    },
    {
      "cell_type": "markdown",
      "source": [
        "### K Neighbors Regression with K=5"
      ],
      "metadata": {
        "id": "7nWpnwSBNt64"
      }
    },
    {
      "cell_type": "code",
      "source": [
        "knn_pipeline = Pipeline([\n",
        "    ('scaler', StandardScaler()),\n",
        "    ('poly', PolynomialFeatures(include_bias=False)),\n",
        "    ('model', KNeighborsRegressor(n_neighbors=5))\n",
        "])\n",
        "\n",
        "param_grid={\n",
        "    'poly__degree':[1,2,3]\n",
        "}\n",
        "\n",
        "grid_knn = GridSearchCV(knn_pipeline, param_grid, cv=5)\n",
        "grid_knn.fit(X_train, y_train)\n",
        "\n",
        "# best degree for KFOLD\n",
        "best_model_knn = grid_knn.best_estimator_\n",
        "best_params_knn = grid_knn.best_params_\n",
        "\n",
        "print(f\"Best Parameters: {best_params_knn}\")\n",
        "print(f\"Best Model: {best_model_knn}\")\n",
        "\n",
        "train_preds_knn = best_model_knn.predict(X_train)\n",
        "test_preds_knn = best_model_knn.predict(X_test)\n",
        "\n",
        "  # Calculate evaluation metrics\n",
        "train_mse_knn = mean_squared_error(y_train, train_preds_knn)\n",
        "test_mse_knn = mean_squared_error(y_test, test_preds_knn)\n",
        "train_mae_knn= mean_absolute_error(y_train, train_preds_knn)\n",
        "test_mae_knn = mean_absolute_error(y_test, test_preds_knn)\n",
        "\n",
        "print(f\"Grid Search Lasso Model: train_mse={train_mse_knn}, test_mse={test_mse_knn}\")\n",
        "print(f\"Grid Search Lasso Model: train_mae={train_mae_knn}, test_mae={test_mae_knn}\")\n",
        "print(f\"Model Accuracy: {round(best_model_knn.score(X_test, y_test)*100,2)}\")\n",
        "\n",
        "\n",
        "grid_knn={\n",
        "    'model': 'Grid Search KNN',\n",
        "    'train_mse': train_mse_knn,\n",
        "    'test_mse': test_mse_knn,\n",
        "    'train_mae': train_mae_knn,\n",
        "    'test_mae': test_mae_knn,\n",
        "    'accuracy': round(best_model_knn.score(X_test, y_test)*100,2),\n",
        "    'coefficients': 0,\n",
        "    'intercept': 0\n",
        "}\n",
        "\n",
        "results.append(grid_knn)"
      ],
      "metadata": {
        "id": "fmdKS7eDNsif"
      },
      "execution_count": null,
      "outputs": []
    },
    {
      "cell_type": "markdown",
      "source": [
        "**Observation** : All the models performed better with minor differences, the scatter plots show similar distrubution when compared to actual and model predictions."
      ],
      "metadata": {
        "id": "07L22qm1LYWr"
      }
    },
    {
      "cell_type": "code",
      "source": [
        "#create data frame with all the model results\n",
        "\n",
        "model_results = pd.DataFrame(results)\n",
        "model_results.sort_values(by='accuracy', ascending=False).drop_duplicates(subset=['model'])"
      ],
      "metadata": {
        "id": "P36SDOjqTe6X"
      },
      "execution_count": null,
      "outputs": []
    },
    {
      "cell_type": "code",
      "source": [
        "#draw bar plot between model and accuracy\n",
        "model_results = model_results.sort_values(by='accuracy', ascending=False).drop_duplicates(subset=['model'])\n",
        "plt.figure(figsize=(10,6))\n",
        "ax = sns.barplot(x='model', y='accuracy', data=model_results, palette='dark', hue='accuracy')\n",
        "# Annotate the bars with the values\n",
        "for p in ax.patches:\n",
        "    ax.annotate(f'{p.get_height():.2f}', (p.get_x() + p.get_width() / 2., p.get_height()),\n",
        "                ha='center', va='center', xytext=(0, 10), textcoords='offset points')\n",
        "sns.set_style(\"whitegrid\")\n",
        "plt.title('Model Accuracy Comparison')\n",
        "plt.xticks(fontsize=10)\n",
        "plt.xticks(rotation = (90))\n",
        "plt.xlabel('Model')\n",
        "plt.ylabel('Accuracy')\n",
        "plt.show()"
      ],
      "metadata": {
        "id": "_2OudFIxUBBy"
      },
      "execution_count": null,
      "outputs": []
    },
    {
      "cell_type": "markdown",
      "metadata": {
        "id": "NyvSewTdUhLq"
      },
      "source": [
        "### Evaluation\n",
        "\n",
        "With some modeling accomplished, we aim to reflect on what we identify as a high-quality model and what we are able to learn from this.  We should review our business objective and explore how well we can provide meaningful insight into drivers of used car prices.  Your goal now is to distill your findings and determine whether the earlier phases need revisitation and adjustment or if you have information of value to bring back to your client."
      ]
    },
    {
      "cell_type": "markdown",
      "source": [
        "It took lot of time to execute all the models with different degree and alpha values, i limited myself to degree upto 3 for Grid Search due to heavy computational time, In most of the cases , i got best degree is 3 and alpha 10.\n",
        "From the data frame I created (I followed the apprach by a github user 'jaruizsys'), i compared the MSE and MAE values and picked one better model"
      ],
      "metadata": {
        "id": "uMnlEIo_KdUP"
      }
    },
    {
      "cell_type": "code",
      "execution_count": null,
      "metadata": {
        "id": "24PYv1T-UhLq"
      },
      "outputs": [],
      "source": [
        "df_results = model_results[['model','train_mse','test_mse']].sort_values(by='test_mse', ascending=True).drop_duplicates(subset=['model'])\n",
        "df_results.plot(x='model',kind='bar',figsize=(10,6))\n",
        "plt.title('Model MSE Comparison')\n",
        "plt.xlabel('Model')\n",
        "plt.ylabel('MSE')\n"
      ]
    },
    {
      "cell_type": "code",
      "execution_count": null,
      "metadata": {
        "id": "yNgdS70OUhLq"
      },
      "outputs": [],
      "source": [
        "df_results = model_results[['model','train_mae','test_mae']].sort_values(by='test_mae', ascending=True).drop_duplicates(subset=['model'])\n",
        "df_results.plot(x='model',kind='bar',figsize=(10,6))\n",
        "plt.title('Model MAE Comparison')\n",
        "plt.xlabel('Model')\n",
        "plt.ylabel('MAE')"
      ]
    },
    {
      "cell_type": "markdown",
      "source": [
        "Observation: From the above two diagrams and from the data frame it is obvious that the lasso regression has less MSE and MAE value"
      ],
      "metadata": {
        "id": "d40b7a7nN1tg"
      }
    },
    {
      "cell_type": "code",
      "execution_count": null,
      "metadata": {
        "id": "5boiG2lPUhLq"
      },
      "outputs": [],
      "source": [
        "# create Permutation importance for lasso model\n",
        "from sklearn.inspection import permutation_importance\n",
        "permu = permutation_importance(best_model_lasso, X_test, y_test,n_repeats=30,random_state=0)\n",
        "importance_df = pd.DataFrame(permu.importances_mean, index=X_test.columns, columns=['Importance'])\n",
        "importance_df.sort_values(by='Importance', ascending=False, inplace=True)"
      ]
    },
    {
      "cell_type": "code",
      "execution_count": null,
      "metadata": {
        "id": "z-4Jay1CUhLq"
      },
      "outputs": [],
      "source": [
        "#draw plot of importance using sns\n",
        "fig,ax = plt.subplots(figsize=(10,7))\n",
        "fig = sns.barplot(x=importance_df.index, y=importance_df.Importance, ax=ax, palette='dark')\n",
        "ax.set_xticklabels(ax.get_xticklabels(), rotation=45)\n",
        "plt.title('Permutation Importance')\n",
        "plt.xlabel(\"Feature\")\n",
        "plt.ylabel(\"Importance\")\n",
        "plt.show()"
      ]
    },
    {
      "cell_type": "markdown",
      "metadata": {
        "id": "4TsaNNhXUhLq"
      },
      "source": [
        "### Deployment\n",
        "\n",
        "Now that we've settled on our models and findings, it is time to deliver the information to the client.  You should organize your work as a basic report that details your primary findings.  Keep in mind that your audience is a group of used car dealers interested in fine-tuning their inventory."
      ]
    },
    {
      "cell_type": "code",
      "source": [
        "clean_vehicles_encoded.head()"
      ],
      "metadata": {
        "id": "YLuIM1FKegC6"
      },
      "execution_count": null,
      "outputs": []
    },
    {
      "cell_type": "code",
      "source": [
        "le_encorers['cylinders']"
      ],
      "metadata": {
        "id": "Qndt2HJpjPhz"
      },
      "execution_count": null,
      "outputs": []
    },
    {
      "cell_type": "markdown",
      "source": [],
      "metadata": {
        "id": "wMEtcWojh1nq"
      }
    },
    {
      "cell_type": "code",
      "execution_count": null,
      "metadata": {
        "id": "_SUKKRU7UhLq"
      },
      "outputs": [],
      "source": [
        "# draw plots\n",
        "fig, ax = plt.subplots(2,3, figsize=(20,10))\n",
        "# sales by cylinders\n",
        "vehicle_cylinders_price = clean_vehicles.groupby('cylinders')['price'].mean().sort_values(ascending=False)\n",
        "fig = sns.barplot(x=vehicle_cylinders_price.index, y=vehicle_cylinders_price, ax=ax[0][0], hue=vehicle_cylinders_price.index, legend=True, palette='bright')\n",
        "# Customize the legend\n",
        "handles, labels = fig.get_legend_handles_labels()\n",
        "fig.legend(handles=handles, labels=[le_encorers['cylinders'][int(label)] for label in labels], title='cylinders', loc='upper right')\n",
        "fig.set_title('Sales by Cylinders')\n",
        "# sales by fuel\n",
        "vehicle_fuel_price = clean_vehicles.groupby('fuel')['price'].mean().sort_values(ascending=False)\n",
        "fig = sns.barplot(x=vehicle_fuel_price.index, y=vehicle_fuel_price, ax=ax[0][1], hue=vehicle_fuel_price.index, legend=True, palette='bright')\n",
        "# Customize the legend\n",
        "handles, labels = fig.get_legend_handles_labels()\n",
        "fig.legend(handles=handles, labels=[le_encorers['fuel'][int(label)] for label in labels], title='fuel', loc='upper right')\n",
        "fig.set_title('Sales by fuel')\n",
        "fig.legend(loc='upper right' ,labels = le_encorers['fuel'])\n",
        "vehicle_drive_price = clean_vehicles.groupby('drive')['price'].mean().sort_values(ascending=False)\n",
        "fig = sns.barplot(x=vehicle_drive_price.index, y=vehicle_drive_price, ax=ax[0][2], hue=vehicle_drive_price.index, legend=True, palette='bright')\n",
        "handles, labels = fig.get_legend_handles_labels()\n",
        "fig.legend(handles=handles, labels=[le_encorers['drive'][int(label)] for label in labels], title='drive', loc='upper right')\n",
        "fig.set_title('Sales by Drive')\n",
        "vehicle_transmission_price = clean_vehicles.groupby('transmission')['price'].mean().sort_values(ascending=False)\n",
        "fig = sns.barplot(x=vehicle_transmission_price.index, y=vehicle_transmission_price, ax=ax[1][0], hue=vehicle_transmission_price.index, legend=True, palette='bright')\n",
        "handles, labels = fig.get_legend_handles_labels()\n",
        "fig.legend(handles=handles, labels=[le_encorers['transmission'][int(label)] for label in labels], title='transmission', loc='upper right')\n",
        "fig.set_title('Sales by Tranmission')\n",
        "vehicle_condition_price = clean_vehicles.groupby('condition')['price'].mean().sort_values(ascending=False)\n",
        "fig = sns.barplot(x=vehicle_condition_price.index, y=vehicle_condition_price, ax=ax[1][1], hue=vehicle_condition_price.index, legend=True, palette='bright')\n",
        "handles, labels = fig.get_legend_handles_labels()\n",
        "fig.legend(handles=handles, labels=[le_encorers['condition'][int(label)] for label in labels], title='condition', loc='upper right')\n",
        "fig.set_title('Sales by Condition')\n",
        "vehicle_year_price = clean_vehicles.groupby('year')['price'].mean().sort_values(ascending=False)\n",
        "fig = sns.barplot(x=vehicle_year_price.index, y=vehicle_year_price, ax=ax[1][2], hue=vehicle_year_price.index, legend=True, palette='bright')\n",
        "fig.set_title('Sales by Year')\n",
        "plt.show()"
      ]
    },
    {
      "cell_type": "code",
      "execution_count": null,
      "metadata": {
        "id": "j9T4tu3FUhLq"
      },
      "outputs": [],
      "source": []
    },
    {
      "cell_type": "code",
      "execution_count": null,
      "metadata": {
        "id": "A6yoF9NfUhLq"
      },
      "outputs": [],
      "source": []
    },
    {
      "cell_type": "code",
      "execution_count": null,
      "metadata": {
        "id": "2mYHTpydUhLr"
      },
      "outputs": [],
      "source": []
    },
    {
      "cell_type": "code",
      "execution_count": null,
      "metadata": {
        "id": "jpBNA2e4UhLr"
      },
      "outputs": [],
      "source": []
    },
    {
      "cell_type": "code",
      "execution_count": null,
      "metadata": {
        "id": "Vvst5oUDUhLr"
      },
      "outputs": [],
      "source": []
    },
    {
      "cell_type": "code",
      "execution_count": null,
      "metadata": {
        "id": "6piUqUi1UhLr"
      },
      "outputs": [],
      "source": []
    }
  ],
  "metadata": {
    "kernelspec": {
      "display_name": "Python 3",
      "language": "python",
      "name": "python3"
    },
    "language_info": {
      "codemirror_mode": {
        "name": "ipython",
        "version": 3
      },
      "file_extension": ".py",
      "mimetype": "text/x-python",
      "name": "python",
      "nbconvert_exporter": "python",
      "pygments_lexer": "ipython3",
      "version": "3.8.8"
    },
    "colab": {
      "provenance": [],
      "include_colab_link": true
    }
  },
  "nbformat": 4,
  "nbformat_minor": 0
}